{
 "cells": [
  {
   "cell_type": "code",
   "execution_count": 1,
   "metadata": {},
   "outputs": [
    {
     "name": "stdout",
     "output_type": "stream",
     "text": [
      "Techology\n"
     ]
    },
    {
     "name": "stderr",
     "output_type": "stream",
     "text": [
      "100%|██████████████████████████████████████████████████████████████████████████████████| 39/39 [00:11<00:00,  3.30it/s]\n"
     ]
    }
   ],
   "source": [
    "from tkinter import *\n",
    "from tkinter import ttk\n",
    "import numpy as np\n",
    "import pandas as pd\n",
    "from scipy.stats import norm\n",
    "from yahoofinancials import YahooFinancials\n",
    "import plotly.express as px\n",
    "import scipy.optimize as opt\n",
    "import pandas_datareader.data as web\n",
    "import datetime as date\n",
    "import mplfinance as mpf\n",
    "import yfinance as yf\n",
    "from scipy.stats import norm\n",
    "import matplotlib.pyplot as plt\n",
    "import data as dt\n",
    "import Funciones as f\n",
    "from scipy.stats import norm\n",
    "import scipy.stats as sta"
   ]
  },
  {
   "cell_type": "code",
   "execution_count": 2,
   "metadata": {},
   "outputs": [],
   "source": [
    "tickerr = dt.Tickets[:7]"
   ]
  },
  {
   "cell_type": "code",
   "execution_count": 3,
   "metadata": {},
   "outputs": [],
   "source": [
    "#tickerr = [\"AAPL\", \"FB\", \"SHOP\", \"C\", \"AMZN\", \"MSFT\", \"EPD\", \"KO\", \"TSLA\",\"WMT\"]\n",
    "prices = web.DataReader(name = tickerr, data_source = \"yahoo\",\n",
    "              start= \"2022-01-01\")[\"Adj Close\"].dropna()"
   ]
  },
  {
   "cell_type": "code",
   "execution_count": 4,
   "metadata": {
    "scrolled": false
   },
   "outputs": [
    {
     "name": "stdout",
     "output_type": "stream",
     "text": [
      "[*********************100%***********************]  1 of 1 completed\n",
      "[*********************100%***********************]  1 of 1 completed\n",
      "[*********************100%***********************]  1 of 1 completed\n",
      "[*********************100%***********************]  1 of 1 completed\n",
      "[*********************100%***********************]  1 of 1 completed\n",
      "[*********************100%***********************]  1 of 1 completed\n",
      "[*********************100%***********************]  1 of 1 completed\n"
     ]
    }
   ],
   "source": [
    "resultado=np.zeros(len(tickerr))\n",
    "for i in range(len(tickerr)):\n",
    "    datos=yf.download(tickerr[i], period='1d', interval='1m')\n",
    "    price=datos.iloc[-1,3]\n",
    "    resultado[i]=price"
   ]
  },
  {
   "cell_type": "code",
   "execution_count": 5,
   "metadata": {},
   "outputs": [
    {
     "data": {
      "text/plain": [
       "array([167.66000366, 282.05999756, 215.03999329,  97.44000244,\n",
       "       585.07000732, 594.        , 326.73001099])"
      ]
     },
     "execution_count": 5,
     "metadata": {},
     "output_type": "execute_result"
    }
   ],
   "source": [
    "resultado"
   ]
  },
  {
   "cell_type": "code",
   "execution_count": 6,
   "metadata": {},
   "outputs": [
    {
     "data": {
      "text/html": [
       "<div>\n",
       "<style scoped>\n",
       "    .dataframe tbody tr th:only-of-type {\n",
       "        vertical-align: middle;\n",
       "    }\n",
       "\n",
       "    .dataframe tbody tr th {\n",
       "        vertical-align: top;\n",
       "    }\n",
       "\n",
       "    .dataframe thead th {\n",
       "        text-align: right;\n",
       "    }\n",
       "</style>\n",
       "<table border=\"1\" class=\"dataframe\">\n",
       "  <thead>\n",
       "    <tr style=\"text-align: right;\">\n",
       "      <th>Symbols</th>\n",
       "      <th>AAPL</th>\n",
       "      <th>MSFT</th>\n",
       "      <th>NVDA</th>\n",
       "      <th>TSM</th>\n",
       "      <th>AVGO</th>\n",
       "      <th>ASML</th>\n",
       "      <th>ACN</th>\n",
       "    </tr>\n",
       "    <tr>\n",
       "      <th>Date</th>\n",
       "      <th></th>\n",
       "      <th></th>\n",
       "      <th></th>\n",
       "      <th></th>\n",
       "      <th></th>\n",
       "      <th></th>\n",
       "      <th></th>\n",
       "    </tr>\n",
       "  </thead>\n",
       "  <tbody>\n",
       "    <tr>\n",
       "      <th>2022-01-03</th>\n",
       "      <td>181.778397</td>\n",
       "      <td>334.059265</td>\n",
       "      <td>301.158691</td>\n",
       "      <td>128.181808</td>\n",
       "      <td>658.864624</td>\n",
       "      <td>797.489990</td>\n",
       "      <td>406.156982</td>\n",
       "    </tr>\n",
       "    <tr>\n",
       "      <th>2022-01-04</th>\n",
       "      <td>179.471344</td>\n",
       "      <td>328.331116</td>\n",
       "      <td>292.850098</td>\n",
       "      <td>132.759720</td>\n",
       "      <td>666.413574</td>\n",
       "      <td>779.190002</td>\n",
       "      <td>403.254517</td>\n",
       "    </tr>\n",
       "    <tr>\n",
       "      <th>2022-01-05</th>\n",
       "      <td>174.697418</td>\n",
       "      <td>315.727173</td>\n",
       "      <td>275.992981</td>\n",
       "      <td>126.450150</td>\n",
       "      <td>638.681091</td>\n",
       "      <td>745.669983</td>\n",
       "      <td>396.152924</td>\n",
       "    </tr>\n",
       "    <tr>\n",
       "      <th>2022-01-06</th>\n",
       "      <td>171.781143</td>\n",
       "      <td>313.232330</td>\n",
       "      <td>281.731995</td>\n",
       "      <td>127.853386</td>\n",
       "      <td>632.751221</td>\n",
       "      <td>763.119995</td>\n",
       "      <td>377.022522</td>\n",
       "    </tr>\n",
       "    <tr>\n",
       "      <th>2022-01-07</th>\n",
       "      <td>171.950928</td>\n",
       "      <td>313.391998</td>\n",
       "      <td>272.423584</td>\n",
       "      <td>122.907242</td>\n",
       "      <td>614.991333</td>\n",
       "      <td>756.099976</td>\n",
       "      <td>369.791290</td>\n",
       "    </tr>\n",
       "    <tr>\n",
       "      <th>...</th>\n",
       "      <td>...</td>\n",
       "      <td>...</td>\n",
       "      <td>...</td>\n",
       "      <td>...</td>\n",
       "      <td>...</td>\n",
       "      <td>...</td>\n",
       "      <td>...</td>\n",
       "    </tr>\n",
       "    <tr>\n",
       "      <th>2022-04-06</th>\n",
       "      <td>171.830002</td>\n",
       "      <td>299.500000</td>\n",
       "      <td>244.070007</td>\n",
       "      <td>101.180000</td>\n",
       "      <td>602.000000</td>\n",
       "      <td>628.510010</td>\n",
       "      <td>340.260010</td>\n",
       "    </tr>\n",
       "    <tr>\n",
       "      <th>2022-04-07</th>\n",
       "      <td>172.139999</td>\n",
       "      <td>301.369995</td>\n",
       "      <td>242.080002</td>\n",
       "      <td>100.519997</td>\n",
       "      <td>603.049988</td>\n",
       "      <td>625.299988</td>\n",
       "      <td>341.769989</td>\n",
       "    </tr>\n",
       "    <tr>\n",
       "      <th>2022-04-08</th>\n",
       "      <td>170.089996</td>\n",
       "      <td>296.970001</td>\n",
       "      <td>231.190002</td>\n",
       "      <td>99.290001</td>\n",
       "      <td>587.000000</td>\n",
       "      <td>610.929993</td>\n",
       "      <td>338.920013</td>\n",
       "    </tr>\n",
       "    <tr>\n",
       "      <th>2022-04-11</th>\n",
       "      <td>165.750000</td>\n",
       "      <td>285.260010</td>\n",
       "      <td>219.169998</td>\n",
       "      <td>97.570000</td>\n",
       "      <td>580.609985</td>\n",
       "      <td>597.739990</td>\n",
       "      <td>327.269989</td>\n",
       "    </tr>\n",
       "    <tr>\n",
       "      <th>2022-04-12</th>\n",
       "      <td>167.660004</td>\n",
       "      <td>282.059998</td>\n",
       "      <td>215.039993</td>\n",
       "      <td>97.440002</td>\n",
       "      <td>585.070007</td>\n",
       "      <td>594.000000</td>\n",
       "      <td>326.730011</td>\n",
       "    </tr>\n",
       "  </tbody>\n",
       "</table>\n",
       "<p>70 rows × 7 columns</p>\n",
       "</div>"
      ],
      "text/plain": [
       "Symbols           AAPL        MSFT        NVDA         TSM        AVGO  \\\n",
       "Date                                                                     \n",
       "2022-01-03  181.778397  334.059265  301.158691  128.181808  658.864624   \n",
       "2022-01-04  179.471344  328.331116  292.850098  132.759720  666.413574   \n",
       "2022-01-05  174.697418  315.727173  275.992981  126.450150  638.681091   \n",
       "2022-01-06  171.781143  313.232330  281.731995  127.853386  632.751221   \n",
       "2022-01-07  171.950928  313.391998  272.423584  122.907242  614.991333   \n",
       "...                ...         ...         ...         ...         ...   \n",
       "2022-04-06  171.830002  299.500000  244.070007  101.180000  602.000000   \n",
       "2022-04-07  172.139999  301.369995  242.080002  100.519997  603.049988   \n",
       "2022-04-08  170.089996  296.970001  231.190002   99.290001  587.000000   \n",
       "2022-04-11  165.750000  285.260010  219.169998   97.570000  580.609985   \n",
       "2022-04-12  167.660004  282.059998  215.039993   97.440002  585.070007   \n",
       "\n",
       "Symbols           ASML         ACN  \n",
       "Date                                \n",
       "2022-01-03  797.489990  406.156982  \n",
       "2022-01-04  779.190002  403.254517  \n",
       "2022-01-05  745.669983  396.152924  \n",
       "2022-01-06  763.119995  377.022522  \n",
       "2022-01-07  756.099976  369.791290  \n",
       "...                ...         ...  \n",
       "2022-04-06  628.510010  340.260010  \n",
       "2022-04-07  625.299988  341.769989  \n",
       "2022-04-08  610.929993  338.920013  \n",
       "2022-04-11  597.739990  327.269989  \n",
       "2022-04-12  594.000000  326.730011  \n",
       "\n",
       "[70 rows x 7 columns]"
      ]
     },
     "execution_count": 6,
     "metadata": {},
     "output_type": "execute_result"
    }
   ],
   "source": [
    "prices.iloc[-1,:] = resultado\n",
    "prices"
   ]
  },
  {
   "cell_type": "code",
   "execution_count": 7,
   "metadata": {},
   "outputs": [],
   "source": [
    "#Analisis RSI \n",
    "# data = yf.download(tickers, period='1d', interval='1m')\n",
    "data = prices\n",
    "\n",
    "RSII = pd.DataFrame()\n",
    "for i in range(len(tickerr)):\n",
    "    \n",
    "    delta = data.iloc[:,i].diff(1)\n",
    "    delta.dropna(inplace=True)\n",
    "\n",
    "    positive = delta.copy()\n",
    "    negative = delta.copy()\n",
    "\n",
    "    positive[positive < 0 ]=0\n",
    "    negative[negative > 0 ]=0\n",
    "    days = 14\n",
    "    avrg_gain = positive.rolling(window=days).mean()\n",
    "    avrg_loss = abs(negative.rolling(window=days).mean())\n",
    "\n",
    "    rltv_strength = avrg_gain/avrg_loss\n",
    "    RSI = 100-(100/(1+rltv_strength))\n",
    "\n",
    "    combined = pd.DataFrame()\n",
    "    combined[\"Close\"] =  data.iloc[:,i]\n",
    "    combined[\"RSI\"] = RSI\n",
    "    RSII[i] = RSI\n",
    "\n",
    "    \n",
    "RSII  = pd.DataFrame(RSII)\n",
    "RSII.columns = tickerr\n",
    "RSI_HOY = RSII.iloc[len(RSII)-1,:]"
   ]
  },
  {
   "cell_type": "code",
   "execution_count": 8,
   "metadata": {},
   "outputs": [
    {
     "data": {
      "text/html": [
       "<div>\n",
       "<style scoped>\n",
       "    .dataframe tbody tr th:only-of-type {\n",
       "        vertical-align: middle;\n",
       "    }\n",
       "\n",
       "    .dataframe tbody tr th {\n",
       "        vertical-align: top;\n",
       "    }\n",
       "\n",
       "    .dataframe thead th {\n",
       "        text-align: right;\n",
       "    }\n",
       "</style>\n",
       "<table border=\"1\" class=\"dataframe\">\n",
       "  <thead>\n",
       "    <tr style=\"text-align: right;\">\n",
       "      <th></th>\n",
       "      <th>2022-04-12</th>\n",
       "    </tr>\n",
       "    <tr>\n",
       "      <th>Ticker</th>\n",
       "      <th></th>\n",
       "    </tr>\n",
       "  </thead>\n",
       "  <tbody>\n",
       "    <tr>\n",
       "      <th>AAPL</th>\n",
       "      <td>46.106867</td>\n",
       "    </tr>\n",
       "    <tr>\n",
       "      <th>MSFT</th>\n",
       "      <td>37.025472</td>\n",
       "    </tr>\n",
       "    <tr>\n",
       "      <th>NVDA</th>\n",
       "      <td>33.327950</td>\n",
       "    </tr>\n",
       "    <tr>\n",
       "      <th>TSM</th>\n",
       "      <td>32.721715</td>\n",
       "    </tr>\n",
       "    <tr>\n",
       "      <th>AVGO</th>\n",
       "      <td>44.287423</td>\n",
       "    </tr>\n",
       "    <tr>\n",
       "      <th>ASML</th>\n",
       "      <td>31.366214</td>\n",
       "    </tr>\n",
       "    <tr>\n",
       "      <th>ACN</th>\n",
       "      <td>56.030996</td>\n",
       "    </tr>\n",
       "  </tbody>\n",
       "</table>\n",
       "</div>"
      ],
      "text/plain": [
       "        2022-04-12\n",
       "Ticker            \n",
       "AAPL     46.106867\n",
       "MSFT     37.025472\n",
       "NVDA     33.327950\n",
       "TSM      32.721715\n",
       "AVGO     44.287423\n",
       "ASML     31.366214\n",
       "ACN      56.030996"
      ]
     },
     "execution_count": 8,
     "metadata": {},
     "output_type": "execute_result"
    }
   ],
   "source": [
    "RSI_HOY=pd.DataFrame(RSI_HOY)\n",
    "RSI_HOY"
   ]
  },
  {
   "cell_type": "code",
   "execution_count": 9,
   "metadata": {},
   "outputs": [],
   "source": [
    "ws  = Tk()\n",
    "ws.title('RSI Analysis')\n",
    "ws.geometry('500x500')\n",
    "#ws['bg'] = '#AC99F2'\n",
    "game_frame = Frame(ws)\n",
    "game_frame.pack()\n",
    "my_game = ttk.Treeview(game_frame)\n",
    "my_game['columns'] = ('TICKER','STATUS','PRICE')\n",
    "\n",
    "my_game.column(\"#0\", width=0,  stretch=NO)\n",
    "my_game.column(\"TICKER\",anchor=CENTER, width=80)\n",
    "my_game.column(\"STATUS\",anchor=CENTER,width=80)\n",
    "my_game.column(\"PRICE\",anchor=CENTER,width=80)\n",
    "\n",
    "my_game.heading(\"#0\",text=\"\",anchor=CENTER)\n",
    "my_game.heading(\"TICKER\",text=\"TICKER\",anchor=CENTER)\n",
    "my_game.heading(\"STATUS\",text=\"STATUS\",anchor=CENTER)\n",
    "my_game.heading(\"PRICE\",text=\"PRICE\",anchor=CENTER)\n",
    "\n",
    "for i in range(len(tickerr)-1):\n",
    "    if(RSI_HOY.iloc[i,0]<30):\n",
    "        my_game.insert(parent='',index='end',text='', values=(tickerr[i],'BUY',np.round((resultado[i]),4)))\n",
    "    if(RSI_HOY.iloc[i,0]>70):\n",
    "        my_game.insert(parent='',index='end',text='', values=(tickerr[i],'SELL',np.round((resultado[i]),4)))\n",
    "    if((RSI_HOY.iloc[i,0]>=30) & (RSI_HOY.iloc[i,0]<=70)):\n",
    "        my_game.insert(parent='',index='end',text='', values=(tickerr[i],'HOLD',np.round((resultado[i]),4)))\n",
    "\n",
    "my_game.pack()\n",
    "\n",
    "import tkinter\n",
    "\n",
    "Etiqueta = ttk.Label(ws,text='Select your stock')\n",
    "Etiqueta.pack()\n",
    "\n",
    "n = tkinter.StringVar(ws)\n",
    "n.set(tickerr[0])\n",
    "\n",
    "seleccion = tkinter.OptionMenu(ws,n,*tickerr)\n",
    "seleccion.pack()\n",
    "\n",
    "def Close():\n",
    "    a = n.get()\n",
    "    ws.destroy()\n",
    "\n",
    "exit_button = tkinter.Button(ws, text=\"Choose\", command= lambda :Close())\n",
    "exit_button.pack(pady=20)\n",
    "\n",
    "    \n",
    "ws.mainloop()\n",
    "\n",
    "\n",
    "activo = n.get()"
   ]
  },
  {
   "cell_type": "code",
   "execution_count": 10,
   "metadata": {},
   "outputs": [
    {
     "name": "stdout",
     "output_type": "stream",
     "text": [
      "[*********************100%***********************]  1 of 1 completed\n"
     ]
    }
   ],
   "source": [
    "resultado=np.zeros(len(activo))\n",
    "datos=yf.download(activo, period='1d', interval='1m')\n",
    "price=datos.iloc[-1,3]\n",
    "st = price   "
   ]
  },
  {
   "cell_type": "code",
   "execution_count": 11,
   "metadata": {},
   "outputs": [],
   "source": [
    "def griegas(r,sigma,st,k,T=1,t=0):\n",
    "    d_c = f.delta_call(St,k,T,t,r,sigma)\n",
    "    d_p = f.delta_put(St,k,T,t,r,sigma)\n",
    "    v   = f.vega(St,k,T,t,r,sigma)\n",
    "    t_c = f.theta_call(St,k,T,t,r,sigma)\n",
    "    t_p = f.theta_put(St,k,T,t,r,sigma)\n",
    "    r_c = f.rho_call(St,k,T,t,r,sigma)\n",
    "    r_p = f.rho_put(St,k,T,t,r,sigma)\n",
    "    g   = f.gamma(St,k,T,t,r,sigma)\n",
    "    van = f.vanna(St,k,T,t,r,sigma)\n",
    "    vol = f.volga(St,k,T,t,r,sigma)\n",
    "    col = f.color(St,k,T,t,r,sigma)\n",
    "    \n",
    "    \n",
    "    return d_c,d_p,v,t_c,t_p,r_c,r_p,g,van,vol,col"
   ]
  },
  {
   "cell_type": "code",
   "execution_count": 12,
   "metadata": {},
   "outputs": [],
   "source": [
    "r = .05\n",
    "T = 1\n",
    "t = 0\n",
    "sigma = .2\n",
    "St = st \n",
    "k = [St,St*0.8,St*0.5,St*1.5,St*1.8]"
   ]
  },
  {
   "cell_type": "code",
   "execution_count": 13,
   "metadata": {},
   "outputs": [],
   "source": [
    "d1= [(np.log(St/k[i])+(r +0.5*sigma**2)*(T-t))/(sigma*np.sqrt(T-t)) for i in range(0,len(k))]\n",
    "d2= [(np.log(St/k[i])+(r -0.5*sigma**2)*(T-t))/(sigma*np.sqrt(T-t)) for i in range(0,len(k))]"
   ]
  },
  {
   "cell_type": "code",
   "execution_count": 14,
   "metadata": {},
   "outputs": [
    {
     "data": {
      "text/plain": [
       "([17.521448799838126,\n",
       "  41.22564240575932,\n",
       "  87.91899814600207,\n",
       "  0.60295537969803,\n",
       "  0.04802261696652366],\n",
       " [9.344573933024655,\n",
       "  1.152141779886671,\n",
       "  0.0005588815406307474,\n",
       "  72.16764491053252,\n",
       "  119.45765078638982])"
      ]
     },
     "execution_count": 14,
     "metadata": {},
     "output_type": "execute_result"
    }
   ],
   "source": [
    "#d1= (np.log(St/k)+(r +0.5*sigma**2)*(T-t))/(sigma*np.sqrt(T-t))\n",
    "#d2= (np.log(St/k)+(r -0.5*sigma**2)*(T-t))/(sigma*np.sqrt(T-t))\n",
    "\n",
    "precio_justo_call = [st*sta.norm.cdf(d1[i],0,1)-k[i]*np.exp(-r*(T-t))*sta.norm.cdf(d2[i],0,1) for i in range(0,len(d1))]\n",
    "precio_justo_put = [k[i]*np.exp(-r*(T-t))*sta.norm.cdf(-d2[i],0,1)-st*sta.norm.cdf(-d1[i],0,1) for i in range(0,len(d1))]\n",
    "precio_justo_call,precio_justo_put"
   ]
  },
  {
   "cell_type": "code",
   "execution_count": 26,
   "metadata": {},
   "outputs": [],
   "source": [
    "k = np.round(k,3)\n",
    "precio_justo_call = np.round(precio_justo_call,3)\n",
    "precio_justo_put = np.round(precio_justo_put,3)"
   ]
  },
  {
   "cell_type": "code",
   "execution_count": 27,
   "metadata": {},
   "outputs": [],
   "source": [
    "a = [griegas(r,sigma,st,k[i],T=1,t=0) for i in range(0,len(k))]\n",
    "a = np.round(a,3)"
   ]
  },
  {
   "cell_type": "code",
   "execution_count": 28,
   "metadata": {},
   "outputs": [],
   "source": [
    "k1 = [0,k[0],precio_justo_call[0],precio_justo_put[0],a[0][0],a[0][1],a[0][2],a[0][3],a[0][4],\n",
    "     a[0][5],a[0][6],a[0][7],a[0][8],a[0][9],a[0][10]]\n",
    "\n",
    "k2 = [0,k[1],precio_justo_call[1],precio_justo_put[1],a[1][0],a[1][1],a[1][2],a[1][3],a[1][4],\n",
    "     a[1][5],a[1][6],a[1][7],a[1][8],a[1][9],a[1][10]]\n",
    "\n",
    "k3 = [0,k[2],precio_justo_call[2],precio_justo_put[2],a[2][0],a[2][1],a[2][2],a[2][3],a[2][4],\n",
    "     a[2][5],a[2][6],a[2][7],a[2][8],a[2][9],a[2][10]]\n",
    "\n",
    "k4 = [0,k[3],precio_justo_call[3],precio_justo_put[3],a[3][0],a[3][1],a[3][2],a[3][3],a[3][4],\n",
    "     a[3][5],a[3][6],a[3][7],a[3][8],a[3][9],a[3][10]]\n",
    "\n",
    "\n",
    "k5 = [0,k[4],precio_justo_call[4],precio_justo_put[4],a[4][0],a[4][1],a[4][2],a[4][3],a[4][4],\n",
    "     a[4][5],a[4][6],a[4][7],a[4][8],a[4][9],a[4][10]]\n",
    "\n"
   ]
  },
  {
   "cell_type": "code",
   "execution_count": 30,
   "metadata": {},
   "outputs": [],
   "source": [
    "ws  = Tk()\n",
    "ws.title('Griegas')\n",
    "\n",
    "#ws['bg'] = '#AC99F2'\n",
    "game_frame = Frame(ws)\n",
    "game_frame.pack()\n",
    "my_game = ttk.Treeview(game_frame)\n",
    "my_game['columns'] = ('p','k','call','put','Delta_Call','Delta_put','Vega','Theta_call'\n",
    "                           ,'Theta_put','rho_call','rho_put','gamma',\n",
    "                          'vanna','volga','color')\n",
    "\n",
    "my_game.column(\"p\", width=0,  stretch=NO)\n",
    "my_game.column(\"k\",anchor=CENTER, width=80)\n",
    "my_game.column(\"call\",anchor=CENTER, width=80)\n",
    "my_game.column(\"put\",anchor=CENTER, width=80)\n",
    "my_game.column(\"Delta_Call\",anchor=CENTER, width=80)\n",
    "my_game.column(\"Delta_put\",anchor=CENTER,width=80)\n",
    "my_game.column(\"Vega\",anchor=CENTER,width=80)\n",
    "my_game.column(\"Theta_call\",anchor=CENTER,width=80)\n",
    "my_game.column(\"Theta_put\",anchor=CENTER,width=80)\n",
    "my_game.column(\"rho_call\",anchor=CENTER,width=80)\n",
    "my_game.column(\"rho_put\",anchor=CENTER,width=80)\n",
    "my_game.column(\"gamma\",anchor=CENTER,width=80)\n",
    "my_game.column(\"vanna\",anchor=CENTER,width=80)\n",
    "my_game.column(\"volga\",anchor=CENTER,width=80)\n",
    "my_game.column(\"color\",anchor=CENTER,width=80)\n",
    "\n",
    "my_game.heading(\"p\",text=\" \",anchor=CENTER)\n",
    "my_game.heading(\"k\",text=\"k\",anchor=CENTER)\n",
    "my_game.heading(\"call\",text=\"call\",anchor=CENTER)\n",
    "my_game.heading(\"put\",text=\"put\",anchor=CENTER)\n",
    "my_game.heading(\"Delta_Call\",text=\"Delta_Call\",anchor=CENTER)\n",
    "my_game.heading(\"Delta_put\",text=\"Delta_put\",anchor=CENTER)\n",
    "my_game.heading(\"Vega\",text=\"Vega\",anchor=CENTER)\n",
    "my_game.heading(\"Theta_call\",text=\"Theta_call\",anchor=CENTER)\n",
    "my_game.heading(\"Theta_put\",text=\"Theta_put\",anchor=CENTER)\n",
    "my_game.heading(\"rho_call\",text=\"rho_call\",anchor=CENTER)\n",
    "my_game.heading(\"rho_put\",text=\"rho_put\",anchor=CENTER)\n",
    "my_game.heading(\"gamma\",text=\"gamma\",anchor=CENTER)\n",
    "my_game.heading(\"vanna\",text=\"vanna\",anchor=CENTER)\n",
    "my_game.heading(\"volga\",text=\"volga\",anchor=CENTER)\n",
    "my_game.heading(\"color\",text=\"color\",anchor=CENTER)\n",
    "\n",
    "my_game.insert(parent='',index='end',text='', values=(k1))\n",
    "my_game.insert(parent='',index='end',text='', values=(k2))\n",
    "my_game.insert(parent='',index='end',text='', values=(k3))\n",
    "my_game.insert(parent='',index='end',text='', values=(k4))\n",
    "my_game.insert(parent='',index='end',text='', values=(k5))\n",
    "\n",
    "\n",
    "my_game.pack()\n",
    "ws.mainloop()"
   ]
  },
  {
   "cell_type": "code",
   "execution_count": null,
   "metadata": {},
   "outputs": [],
   "source": [
    "DF = pd.DataFrame(data=a,columns={'Delta_Call','Delta_put','Vega','Theta_call'\n",
    "                           ,'Theta_put','rho_call','rho_put','gamma',\n",
    "                          'vanna','volga','color'})\n",
    "DF"
   ]
  }
 ],
 "metadata": {
  "kernelspec": {
   "display_name": "Python 3",
   "language": "python",
   "name": "python3"
  },
  "language_info": {
   "codemirror_mode": {
    "name": "ipython",
    "version": 3
   },
   "file_extension": ".py",
   "mimetype": "text/x-python",
   "name": "python",
   "nbconvert_exporter": "python",
   "pygments_lexer": "ipython3",
   "version": "3.8.8"
  }
 },
 "nbformat": 4,
 "nbformat_minor": 2
}
