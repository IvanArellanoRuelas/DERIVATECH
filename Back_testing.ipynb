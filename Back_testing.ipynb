{
 "cells": [
  {
   "cell_type": "code",
   "execution_count": 1,
   "metadata": {},
   "outputs": [
    {
     "name": "stdout",
     "output_type": "stream",
     "text": [
      "Techology\n"
     ]
    },
    {
     "name": "stderr",
     "output_type": "stream",
     "text": [
      "100%|██████████| 40/40 [00:14<00:00,  2.71it/s]\n"
     ]
    }
   ],
   "source": [
    "from tkinter import *\n",
    "from tkinter import ttk\n",
    "import numpy as np\n",
    "import pandas as pd\n",
    "from scipy.stats import norm\n",
    "from yahoofinancials import YahooFinancials\n",
    "import plotly.express as px\n",
    "import scipy.optimize as opt\n",
    "import pandas_datareader.data as web\n",
    "import datetime as date\n",
    "import mplfinance as mpf\n",
    "import yfinance as yf\n",
    "from scipy.stats import norm\n",
    "import matplotlib.pyplot as plt\n",
    "import data as dt\n",
    "import Funciones as f\n",
    "from scipy.stats import norm\n",
    "import scipy.stats as sta"
   ]
  },
  {
   "cell_type": "code",
   "execution_count": 2,
   "metadata": {},
   "outputs": [],
   "source": [
    "tickerr = dt.Tickets[:10]"
   ]
  },
  {
   "cell_type": "code",
   "execution_count": 3,
   "metadata": {},
   "outputs": [],
   "source": [
    "#tickerr = [\"AAPL\", \"FB\", \"SHOP\", \"C\", \"AMZN\", \"MSFT\", \"EPD\", \"KO\", \"TSLA\",\"WMT\"]\n",
    "prices = web.DataReader(name = tickerr, data_source = \"yahoo\",\n",
    "              start= \"2022-01-01\")[\"Adj Close\"].dropna()"
   ]
  },
  {
   "cell_type": "code",
   "execution_count": 4,
   "metadata": {},
   "outputs": [],
   "source": [
    "#pip install --upgrade yfinance"
   ]
  },
  {
   "cell_type": "code",
   "execution_count": 5,
   "metadata": {
    "scrolled": false
   },
   "outputs": [
    {
     "name": "stdout",
     "output_type": "stream",
     "text": [
      "[*********************100%***********************]  1 of 1 completed\n",
      "[*********************100%***********************]  1 of 1 completed\n",
      "[*********************100%***********************]  1 of 1 completed\n",
      "[*********************100%***********************]  1 of 1 completed\n",
      "[*********************100%***********************]  1 of 1 completed\n",
      "[*********************100%***********************]  1 of 1 completed\n",
      "[*********************100%***********************]  1 of 1 completed\n",
      "[*********************100%***********************]  1 of 1 completed\n",
      "[*********************100%***********************]  1 of 1 completed\n",
      "[*********************100%***********************]  1 of 1 completed\n"
     ]
    }
   ],
   "source": [
    "resultado=np.zeros(len(tickerr))\n",
    "for i in range(len(tickerr)):\n",
    "    datos=yf.download(tickerr[i], period='1d', interval='1m')\n",
    "    price=datos.iloc[-1,3]\n",
    "    resultado[i]=price"
   ]
  },
  {
   "cell_type": "code",
   "execution_count": 6,
   "metadata": {},
   "outputs": [],
   "source": [
    "test = prices\n",
    "mausherramienta = test.iloc[-24:,:]"
   ]
  },
  {
   "cell_type": "code",
   "execution_count": 7,
   "metadata": {},
   "outputs": [
    {
     "data": {
      "text/plain": [
       "array([161.78999329, 274.02999878, 195.1499939 ,  95.68000031,\n",
       "       607.60998535, 586.95001221,  51.36000061, 310.79998779,\n",
       "        76.20999908, 408.67001343])"
      ]
     },
     "execution_count": 7,
     "metadata": {},
     "output_type": "execute_result"
    }
   ],
   "source": [
    "prices.iloc[-25,:] = resultado\n",
    "resultado"
   ]
  },
  {
   "cell_type": "code",
   "execution_count": 8,
   "metadata": {},
   "outputs": [],
   "source": [
    "#Analisis RSI \n",
    "# data = yf.download(tickers, period='1d', interval='1m')\n",
    "data = prices.iloc[:-25,:]\n",
    "\n",
    "RSII = pd.DataFrame()\n",
    "for i in range(len(tickerr)):\n",
    "    \n",
    "    delta = data.iloc[:,i].diff(1)\n",
    "    delta.dropna(inplace=True)\n",
    "\n",
    "    positive = delta.copy()\n",
    "    negative = delta.copy()\n",
    "\n",
    "    positive[positive < 0 ]=0\n",
    "    negative[negative > 0 ]=0\n",
    "    days = 14\n",
    "    avrg_gain = positive.rolling(window=days).mean()\n",
    "    avrg_loss = abs(negative.rolling(window=days).mean())\n",
    "\n",
    "    rltv_strength = avrg_gain/avrg_loss\n",
    "    RSI = 100-(100/(1+rltv_strength))\n",
    "\n",
    "    combined = pd.DataFrame()\n",
    "    combined[\"Close\"] =  data.iloc[:,i]\n",
    "    combined[\"RSI\"] = RSI\n",
    "    RSII[i] = RSI\n",
    "\n",
    "    \n",
    "RSII  = pd.DataFrame(RSII)\n",
    "RSII.columns = tickerr\n",
    "RSI_HOY = RSII.iloc[len(RSII)-1,:]"
   ]
  },
  {
   "cell_type": "code",
   "execution_count": 9,
   "metadata": {},
   "outputs": [],
   "source": [
    "RSI_HOY=pd.DataFrame(RSI_HOY)"
   ]
  },
  {
   "cell_type": "code",
   "execution_count": 10,
   "metadata": {},
   "outputs": [],
   "source": [
    "ws  = Tk()\n",
    "ws.title('RSI Analysis')\n",
    "ws.geometry('500x500')\n",
    "#ws['bg'] = '#AC99F2'\n",
    "game_frame = Frame(ws)\n",
    "game_frame.pack()\n",
    "my_game = ttk.Treeview(game_frame)\n",
    "my_game['columns'] = ('TICKER','STATUS','PRICE')\n",
    "\n",
    "my_game.column(\"#0\", width=0,  stretch=NO)\n",
    "my_game.column(\"TICKER\",anchor=CENTER, width=80)\n",
    "my_game.column(\"STATUS\",anchor=CENTER,width=80)\n",
    "my_game.column(\"PRICE\",anchor=CENTER,width=80)\n",
    "\n",
    "my_game.heading(\"#0\",text=\"\",anchor=CENTER)\n",
    "my_game.heading(\"TICKER\",text=\"TICKER\",anchor=CENTER)\n",
    "my_game.heading(\"STATUS\",text=\"STATUS\",anchor=CENTER)\n",
    "my_game.heading(\"PRICE\",text=\"PRICE\",anchor=CENTER)\n",
    "\n",
    "for i in range(len(tickerr)-1):\n",
    "    if(RSI_HOY.iloc[i,0]<30):\n",
    "        my_game.insert(parent='',index='end',text='', values=(tickerr[i],'BUY',np.round((resultado[i]),4)))\n",
    "    if(RSI_HOY.iloc[i,0]>70):\n",
    "        my_game.insert(parent='',index='end',text='', values=(tickerr[i],'SELL',np.round((resultado[i]),4)))\n",
    "    if((RSI_HOY.iloc[i,0]>=30) & (RSI_HOY.iloc[i,0]<=70)):\n",
    "        my_game.insert(parent='',index='end',text='', values=(tickerr[i],'HOLD',np.round((resultado[i]),4)))\n",
    "\n",
    "my_game.pack()\n",
    "\n",
    "import tkinter\n",
    "\n",
    "Etiqueta = ttk.Label(ws,text='Select your stock')\n",
    "Etiqueta.pack()\n",
    "\n",
    "n = tkinter.StringVar(ws)\n",
    "n.set(tickerr[0])\n",
    "\n",
    "seleccion = tkinter.OptionMenu(ws,n,*tickerr)\n",
    "seleccion.pack()\n",
    "\n",
    "def Close():\n",
    "    a = n.get()\n",
    "    ws.destroy()\n",
    "\n",
    "exit_button = tkinter.Button(ws, text=\"Choose\", command= lambda :Close())\n",
    "exit_button.pack(pady=20)\n",
    "\n",
    "    \n",
    "ws.mainloop()\n",
    "\n",
    "\n",
    "activo = n.get()"
   ]
  },
  {
   "cell_type": "code",
   "execution_count": 11,
   "metadata": {},
   "outputs": [
    {
     "data": {
      "text/plain": [
       "array([0., 0., 0., 0.])"
      ]
     },
     "execution_count": 11,
     "metadata": {},
     "output_type": "execute_result"
    }
   ],
   "source": [
    "np.zeros(len(activo))"
   ]
  },
  {
   "cell_type": "code",
   "execution_count": 12,
   "metadata": {},
   "outputs": [
    {
     "name": "stdout",
     "output_type": "stream",
     "text": [
      "[*********************100%***********************]  1 of 1 completed\n"
     ]
    }
   ],
   "source": [
    "resultado=np.zeros(len(activo))\n",
    "datos=yf.download(activo, period='1d', interval='1m')\n",
    "price=datos.iloc[-1,3]\n",
    "st = price   "
   ]
  },
  {
   "cell_type": "code",
   "execution_count": 13,
   "metadata": {},
   "outputs": [],
   "source": [
    "def griegas(r,sigma,st,k,T=1/12,t=0):\n",
    "    d_c = f.delta_call(St,k,T,t,r,sigma)\n",
    "    d_p = f.delta_put(St,k,T,t,r,sigma)\n",
    "    v   = f.vega(St,k,T,t,r,sigma)\n",
    "    t_c = f.theta_call(St,k,T,t,r,sigma)\n",
    "    t_p = f.theta_put(St,k,T,t,r,sigma)\n",
    "    r_c = f.rho_call(St,k,T,t,r,sigma)\n",
    "    r_p = f.rho_put(St,k,T,t,r,sigma)\n",
    "    g   = f.gamma(St,k,T,t,r,sigma)\n",
    "    van = f.vanna(St,k,T,t,r,sigma)\n",
    "    vol = f.volga(St,k,T,t,r,sigma)\n",
    "    col = f.color(St,k,T,t,r,sigma)\n",
    "    \n",
    "    \n",
    "    return d_c,d_p,v,t_c,t_p,r_c,r_p,g,van,vol,col"
   ]
  },
  {
   "cell_type": "code",
   "execution_count": 14,
   "metadata": {},
   "outputs": [
    {
     "name": "stdout",
     "output_type": "stream",
     "text": [
      "[*********************100%***********************]  1 of 1 completed\n",
      "[*********************100%***********************]  1 of 1 completed\n",
      "[*********************100%***********************]  1 of 1 completed\n",
      "[*********************100%***********************]  1 of 1 completed\n",
      "[*********************100%***********************]  1 of 1 completed\n"
     ]
    }
   ],
   "source": [
    "#ITERACIÓN\n",
    "import time \n",
    "\n",
    "\n",
    "contador = 0\n",
    "while contador < 5:\n",
    "    \n",
    "\n",
    "    resultado=np.zeros(len(activo))\n",
    "    datos=yf.download(activo, period='1d', interval='1m')\n",
    "    price=datos.iloc[-1,3]\n",
    "    st = price \n",
    "\n",
    "    r = .0852\n",
    "    T = 1\n",
    "    t = 0\n",
    "    ret_log = np.log(datos.iloc[:,3]/datos.iloc[:,3].shift(1)).dropna()\n",
    "    cambio_porcentual_anual = ret_log.iloc[-1]*(252)\n",
    "    sigma = np.std(ret_log)*np.sqrt(252)\n",
    "    St = st \n",
    "    k = [St,St*(1+sigma),St*(1+2*sigma),St*(1-sigma),St*(1-2*sigma)]\n",
    "\n",
    "    d1= [(np.log(St/k[i])+(r +0.5*sigma**2)*(T-t))/(sigma*np.sqrt(T-t)) for i in range(0,len(k))]\n",
    "    d2= [(np.log(St/k[i])+(r -0.5*sigma**2)*(T-t))/(sigma*np.sqrt(T-t)) for i in range(0,len(k))]\n",
    "\n",
    "    precio_justo_call = [st*sta.norm.cdf(d1[i],0,1)-k[i]*np.exp(-r*(T-t))*sta.norm.cdf(d2[i],0,1) for i in range(0,len(d1))]\n",
    "    precio_justo_put = [k[i]*np.exp(-r*(T-t))*sta.norm.cdf(-d2[i],0,1)-st*sta.norm.cdf(-d1[i],0,1) for i in range(0,len(d1))]\n",
    "\n",
    "\n",
    "    k = np.round(k,3)\n",
    "    precio_justo_call = precio_justo_call\n",
    "    precio_justo_put = precio_justo_put\n",
    "\n",
    "\n",
    "    a = [griegas(r/12,sigma,st,k[i],T=1/12,t=0) for i in range(0,len(k))]\n",
    "    a = a\n",
    "\n",
    "\n",
    "    k1 = [0,k[0],precio_justo_call[0],precio_justo_put[0],a[0][0],a[0][1],a[0][2],a[0][3],a[0][4],\n",
    "         a[0][5],a[0][6],a[0][7],a[0][8],a[0][9],a[0][10]]\n",
    "\n",
    "    k2 = [0,k[1],precio_justo_call[1],precio_justo_put[1],a[1][0],a[1][1],a[1][2],a[1][3],a[1][4],\n",
    "         a[1][5],a[1][6],a[1][7],a[1][8],a[1][9],a[1][10]]\n",
    "\n",
    "    k3 = [0,k[2],precio_justo_call[2],precio_justo_put[2],a[2][0],a[2][1],a[2][2],a[2][3],a[2][4],\n",
    "         a[2][5],a[2][6],a[2][7],a[2][8],a[2][9],a[2][10]]\n",
    "\n",
    "    k4 = [0,k[3],precio_justo_call[3],precio_justo_put[3],a[3][0],a[3][1],a[3][2],a[3][3],a[3][4],\n",
    "         a[3][5],a[3][6],a[3][7],a[3][8],a[3][9],a[3][10]]\n",
    "\n",
    "\n",
    "    k5 = [0,k[4],precio_justo_call[4],precio_justo_put[4],a[4][0],a[4][1],a[4][2],a[4][3],a[4][4],\n",
    "         a[4][5],a[4][6],a[4][7],a[4][8],a[4][9],a[4][10]]\n",
    "\n",
    "\n",
    "    ws  = Tk()\n",
    "    ws.title('Griegas '+activo)\n",
    "\n",
    "    #ws['bg'] = '#AC99F2'\n",
    "    game_frame = Frame(ws)\n",
    "    game_frame.pack()\n",
    "    my_game = ttk.Treeview(game_frame)\n",
    "    my_game['columns'] = ('p','k','call','put','Delta_Call','Delta_put','Vega','Theta_call'\n",
    "                               ,'Theta_put','rho_call','rho_put','gamma',\n",
    "                              'vanna','volga','color')\n",
    "\n",
    "    my_game.column(\"p\", width=0,  stretch=NO)\n",
    "    my_game.column(\"k\",anchor=CENTER, width=80)\n",
    "    my_game.column(\"call\",anchor=CENTER, width=80)\n",
    "    my_game.column(\"put\",anchor=CENTER, width=80)\n",
    "    my_game.column(\"Delta_Call\",anchor=CENTER, width=80)\n",
    "    my_game.column(\"Delta_put\",anchor=CENTER,width=80)\n",
    "    my_game.column(\"Vega\",anchor=CENTER,width=80)\n",
    "    my_game.column(\"Theta_call\",anchor=CENTER,width=80)\n",
    "    my_game.column(\"Theta_put\",anchor=CENTER,width=80)\n",
    "    my_game.column(\"rho_call\",anchor=CENTER,width=80)\n",
    "    my_game.column(\"rho_put\",anchor=CENTER,width=80)\n",
    "    my_game.column(\"gamma\",anchor=CENTER,width=80)\n",
    "    my_game.column(\"vanna\",anchor=CENTER,width=80)\n",
    "    my_game.column(\"volga\",anchor=CENTER,width=80)\n",
    "    my_game.column(\"color\",anchor=CENTER,width=80)\n",
    "\n",
    "    my_game.heading(\"p\",text=\" \",anchor=CENTER)\n",
    "    my_game.heading(\"k\",text=\"k\",anchor=CENTER)\n",
    "    my_game.heading(\"call\",text=\"call\",anchor=CENTER)\n",
    "    my_game.heading(\"put\",text=\"put\",anchor=CENTER)\n",
    "    my_game.heading(\"Delta_Call\",text=\"Delta_Call\",anchor=CENTER)\n",
    "    my_game.heading(\"Delta_put\",text=\"Delta_put\",anchor=CENTER)\n",
    "    my_game.heading(\"Vega\",text=\"Vega\",anchor=CENTER)\n",
    "    my_game.heading(\"Theta_call\",text=\"Theta_call\",anchor=CENTER)\n",
    "    my_game.heading(\"Theta_put\",text=\"Theta_put\",anchor=CENTER)\n",
    "    my_game.heading(\"rho_call\",text=\"rho_call\",anchor=CENTER)\n",
    "    my_game.heading(\"rho_put\",text=\"rho_put\",anchor=CENTER)\n",
    "    my_game.heading(\"gamma\",text=\"gamma\",anchor=CENTER)\n",
    "    my_game.heading(\"vanna\",text=\"vanna\",anchor=CENTER)\n",
    "    my_game.heading(\"volga\",text=\"volga\",anchor=CENTER)\n",
    "    my_game.heading(\"color\",text=\"color\",anchor=CENTER)\n",
    "\n",
    "    my_game.insert(parent='',index='end',text='', values=(k1))\n",
    "    my_game.insert(parent='',index='end',text='', values=(k2))\n",
    "    my_game.insert(parent='',index='end',text='', values=(k3))\n",
    "    my_game.insert(parent='',index='end',text='', values=(k4))\n",
    "    my_game.insert(parent='',index='end',text='', values=(k5))\n",
    "    my_game.pack()\n",
    "    \n",
    "    # Se actualizara la tabla \n",
    "    def cerrar():\n",
    "        ws.destroy()\n",
    "    \n",
    "    ws.after(90000,cerrar)\n",
    "    contador = contador+1 \n",
    "    ws.mainloop()\n",
    "\n",
    "    \n",
    "        \n",
    "    #ws.destroy()\n",
    "    \n",
    "    "
   ]
  },
  {
   "cell_type": "markdown",
   "metadata": {},
   "source": [
    "# Backtest"
   ]
  },
  {
   "cell_type": "code",
   "execution_count": 15,
   "metadata": {},
   "outputs": [
    {
     "data": {
      "text/plain": [
       "(array([195.15 , 201.608, 208.067, 188.692, 182.233]),\n",
       " [15.94799541374499,\n",
       "  10.156799622598555,\n",
       "  5.0894748200962,\n",
       "  21.8692208008666,\n",
       "  27.799777624633435],\n",
       " [0.009822263426311095,\n",
       "  0.14942769225107178,\n",
       "  1.0129041097199476,\n",
       "  0.00024643057673577606,\n",
       "  2.034372361942483e-06])"
      ]
     },
     "execution_count": 15,
     "metadata": {},
     "output_type": "execute_result"
    }
   ],
   "source": [
    "k,precio_justo_call,precio_justo_put\n"
   ]
  },
  {
   "cell_type": "code",
   "execution_count": 16,
   "metadata": {},
   "outputs": [],
   "source": [
    "Delta_1 = [a[i][0:2] for i in range (0,5)]"
   ]
  },
  {
   "cell_type": "code",
   "execution_count": 26,
   "metadata": {},
   "outputs": [],
   "source": [
    "Gamma_1 = [a[i][7] for i in range (0,5)]"
   ]
  },
  {
   "cell_type": "code",
   "execution_count": 18,
   "metadata": {},
   "outputs": [
    {
     "data": {
      "text/plain": [
       "0.5265922197493533"
      ]
     },
     "execution_count": 18,
     "metadata": {},
     "output_type": "execute_result"
    }
   ],
   "source": [
    "Delta_1[0][0]"
   ]
  },
  {
   "cell_type": "code",
   "execution_count": 19,
   "metadata": {},
   "outputs": [
    {
     "data": {
      "text/html": [
       "<div>\n",
       "<style scoped>\n",
       "    .dataframe tbody tr th:only-of-type {\n",
       "        vertical-align: middle;\n",
       "    }\n",
       "\n",
       "    .dataframe tbody tr th {\n",
       "        vertical-align: top;\n",
       "    }\n",
       "\n",
       "    .dataframe thead th {\n",
       "        text-align: right;\n",
       "    }\n",
       "</style>\n",
       "<table border=\"1\" class=\"dataframe\">\n",
       "  <thead>\n",
       "    <tr style=\"text-align: right;\">\n",
       "      <th></th>\n",
       "      <th>0</th>\n",
       "      <th>1</th>\n",
       "      <th>2</th>\n",
       "      <th>3</th>\n",
       "      <th>4</th>\n",
       "      <th>5</th>\n",
       "      <th>6</th>\n",
       "    </tr>\n",
       "  </thead>\n",
       "  <tbody>\n",
       "    <tr>\n",
       "      <th>0</th>\n",
       "      <td>195.149994</td>\n",
       "      <td>195.15</td>\n",
       "      <td>15.947995</td>\n",
       "      <td>0.009822</td>\n",
       "      <td>0.526592</td>\n",
       "      <td>-0.473408</td>\n",
       "      <td>0.398056</td>\n",
       "    </tr>\n",
       "  </tbody>\n",
       "</table>\n",
       "</div>"
      ],
      "text/plain": [
       "            0       1          2         3         4         5         6\n",
       "0  195.149994  195.15  15.947995  0.009822  0.526592 -0.473408  0.398056"
      ]
     },
     "execution_count": 19,
     "metadata": {},
     "output_type": "execute_result"
    }
   ],
   "source": [
    "Delta_1 = [a[i][0:2] for i in range (0,5)]\n",
    "Gamma_1 = [a[i][7] for i in range (0,5)]\n",
    "Test = pd.DataFrame([st,k[0],precio_justo_call[0],precio_justo_put[0],Delta_1[0][0],Delta_1[0][1],Gamma_1[0]]).T\n",
    "#Test.rename(columns = {0:'St', 1:'K',2:'Call',3:'Put',4:'Delta_call',5:'Delta_put',6:'Gamma'}, inplace = True)\n",
    "Test"
   ]
  },
  {
   "cell_type": "code",
   "execution_count": 20,
   "metadata": {},
   "outputs": [],
   "source": [
    "lista = pd.DataFrame([st,k[0],precio_justo_call[0],precio_justo_put[0],Delta_1[0][0],Delta_1[0][1],Gamma_1[0]]).T\n"
   ]
  },
  {
   "cell_type": "code",
   "execution_count": 42,
   "metadata": {},
   "outputs": [
    {
     "data": {
      "text/plain": [
       "array([0., 0., 0., 0., 0., 0., 0., 0., 0., 0., 0., 0., 0., 0., 0., 0., 0.,\n",
       "       0., 0., 0., 0., 0., 0., 0., 0.])"
      ]
     },
     "execution_count": 42,
     "metadata": {},
     "output_type": "execute_result"
    }
   ],
   "source": [
    "np.zeros(len(mausherramienta[activo])+1)"
   ]
  },
  {
   "cell_type": "code",
   "execution_count": 98,
   "metadata": {
    "scrolled": false
   },
   "outputs": [],
   "source": [
    "def back_test(k, precio_justo_call, precio_justo_put):\n",
    "    r = .0852\n",
    "    T = 1\n",
    "    t = 0\n",
    "    ret_log = np.log(mausherramienta[activo]/mausherramienta[activo].shift(1)).dropna()\n",
    "    cambio_porcentual_anual = ret_log.iloc[-1]*(252)\n",
    "    sigma = np.std(ret_log)*np.sqrt(252)\n",
    "    CALIZ = np.zeros(7)\n",
    "    CALIZ = pd.DataFrame(CALIZ)\n",
    "    \n",
    "    for i in range (1,len(mausherramienta[activo])+1):\n",
    "        st = mausherramienta[activo][-i]\n",
    "        k_ = k\n",
    "        call = precio_justo_call\n",
    "        put = precio_justo_put\n",
    "        Delta_call = f.delta_call(st,k_,T,t,r,sigma)\n",
    "        Delta_put =  f.delta_put(st,k_,T,t,r,sigma)\n",
    "        gamma = f.gamma(st,k_,T,t,r,sigma)\n",
    "        lista = pd.DataFrame([st,k_,call,put,Delta_call,Delta_put,gamma])\n",
    "        CALIZ[i] = lista\n",
    "\n",
    "\n",
    "    CALIZ.drop(0, axis=1, inplace=True)\n",
    "    CALIZ = CALIZ.T\n",
    "    CALIZ.rename(columns = {0:'St', 1:'K',2:'Call',3:'Put',4:'Delta_call',5:'Delta_put',6:'Gamma'}, inplace = True)\n",
    "    \n",
    "    return CALIZ"
   ]
  },
  {
   "cell_type": "code",
   "execution_count": 103,
   "metadata": {},
   "outputs": [],
   "source": [
    "K_1 = back_test(k[0], precio_justo_call[0], precio_justo_put[0])\n",
    "K_2 = back_test(k[1], precio_justo_call[1], precio_justo_put[1])\n",
    "K_3 = back_test(k[2], precio_justo_call[2], precio_justo_put[2])\n",
    "K_4 = back_test(k[3], precio_justo_call[3], precio_justo_put[3])\n",
    "K_5 = back_test(k[4], precio_justo_call[4], precio_justo_put[4])"
   ]
  },
  {
   "cell_type": "code",
   "execution_count": 105,
   "metadata": {
    "scrolled": false
   },
   "outputs": [
    {
     "data": {
      "text/html": [
       "<div>\n",
       "<style scoped>\n",
       "    .dataframe tbody tr th:only-of-type {\n",
       "        vertical-align: middle;\n",
       "    }\n",
       "\n",
       "    .dataframe tbody tr th {\n",
       "        vertical-align: top;\n",
       "    }\n",
       "\n",
       "    .dataframe thead th {\n",
       "        text-align: right;\n",
       "    }\n",
       "</style>\n",
       "<table border=\"1\" class=\"dataframe\">\n",
       "  <thead>\n",
       "    <tr style=\"text-align: right;\">\n",
       "      <th></th>\n",
       "      <th>St</th>\n",
       "      <th>K</th>\n",
       "      <th>Call</th>\n",
       "      <th>Put</th>\n",
       "      <th>Delta_call</th>\n",
       "      <th>Delta_put</th>\n",
       "      <th>Gamma</th>\n",
       "    </tr>\n",
       "  </thead>\n",
       "  <tbody>\n",
       "    <tr>\n",
       "      <th>1</th>\n",
       "      <td>195.149994</td>\n",
       "      <td>195.15</td>\n",
       "      <td>15.947995</td>\n",
       "      <td>0.009822</td>\n",
       "      <td>0.669052</td>\n",
       "      <td>-0.330948</td>\n",
       "      <td>0.362565</td>\n",
       "    </tr>\n",
       "    <tr>\n",
       "      <th>2</th>\n",
       "      <td>201.830002</td>\n",
       "      <td>195.15</td>\n",
       "      <td>15.947995</td>\n",
       "      <td>0.009822</td>\n",
       "      <td>0.689758</td>\n",
       "      <td>-0.310242</td>\n",
       "      <td>0.352913</td>\n",
       "    </tr>\n",
       "    <tr>\n",
       "      <th>3</th>\n",
       "      <td>214.820007</td>\n",
       "      <td>195.15</td>\n",
       "      <td>15.947995</td>\n",
       "      <td>0.009822</td>\n",
       "      <td>0.726549</td>\n",
       "      <td>-0.273451</td>\n",
       "      <td>0.332742</td>\n",
       "    </tr>\n",
       "    <tr>\n",
       "      <th>4</th>\n",
       "      <td>221.979996</td>\n",
       "      <td>195.15</td>\n",
       "      <td>15.947995</td>\n",
       "      <td>0.009822</td>\n",
       "      <td>0.744982</td>\n",
       "      <td>-0.255018</td>\n",
       "      <td>0.321122</td>\n",
       "    </tr>\n",
       "    <tr>\n",
       "      <th>5</th>\n",
       "      <td>217.830002</td>\n",
       "      <td>195.15</td>\n",
       "      <td>15.947995</td>\n",
       "      <td>0.009822</td>\n",
       "      <td>0.734452</td>\n",
       "      <td>-0.265548</td>\n",
       "      <td>0.327887</td>\n",
       "    </tr>\n",
       "    <tr>\n",
       "      <th>6</th>\n",
       "      <td>212.580002</td>\n",
       "      <td>195.15</td>\n",
       "      <td>15.947995</td>\n",
       "      <td>0.009822</td>\n",
       "      <td>0.720520</td>\n",
       "      <td>-0.279480</td>\n",
       "      <td>0.336320</td>\n",
       "    </tr>\n",
       "    <tr>\n",
       "      <th>7</th>\n",
       "      <td>222.029999</td>\n",
       "      <td>195.15</td>\n",
       "      <td>15.947995</td>\n",
       "      <td>0.009822</td>\n",
       "      <td>0.745106</td>\n",
       "      <td>-0.254894</td>\n",
       "      <td>0.321040</td>\n",
       "    </tr>\n",
       "    <tr>\n",
       "      <th>8</th>\n",
       "      <td>215.039993</td>\n",
       "      <td>195.15</td>\n",
       "      <td>15.947995</td>\n",
       "      <td>0.009822</td>\n",
       "      <td>0.727134</td>\n",
       "      <td>-0.272866</td>\n",
       "      <td>0.332389</td>\n",
       "    </tr>\n",
       "    <tr>\n",
       "      <th>9</th>\n",
       "      <td>219.169998</td>\n",
       "      <td>195.15</td>\n",
       "      <td>15.947995</td>\n",
       "      <td>0.009822</td>\n",
       "      <td>0.737898</td>\n",
       "      <td>-0.262102</td>\n",
       "      <td>0.325711</td>\n",
       "    </tr>\n",
       "    <tr>\n",
       "      <th>10</th>\n",
       "      <td>231.190002</td>\n",
       "      <td>195.15</td>\n",
       "      <td>15.947995</td>\n",
       "      <td>0.009822</td>\n",
       "      <td>0.766900</td>\n",
       "      <td>-0.233100</td>\n",
       "      <td>0.305922</td>\n",
       "    </tr>\n",
       "    <tr>\n",
       "      <th>11</th>\n",
       "      <td>242.080002</td>\n",
       "      <td>195.15</td>\n",
       "      <td>15.947995</td>\n",
       "      <td>0.009822</td>\n",
       "      <td>0.790402</td>\n",
       "      <td>-0.209598</td>\n",
       "      <td>0.287877</td>\n",
       "    </tr>\n",
       "    <tr>\n",
       "      <th>12</th>\n",
       "      <td>244.070007</td>\n",
       "      <td>195.15</td>\n",
       "      <td>15.947995</td>\n",
       "      <td>0.009822</td>\n",
       "      <td>0.794431</td>\n",
       "      <td>-0.205569</td>\n",
       "      <td>0.284594</td>\n",
       "    </tr>\n",
       "    <tr>\n",
       "      <th>13</th>\n",
       "      <td>259.309998</td>\n",
       "      <td>195.15</td>\n",
       "      <td>15.947995</td>\n",
       "      <td>0.009822</td>\n",
       "      <td>0.822785</td>\n",
       "      <td>-0.177215</td>\n",
       "      <td>0.259835</td>\n",
       "    </tr>\n",
       "    <tr>\n",
       "      <th>14</th>\n",
       "      <td>273.600006</td>\n",
       "      <td>195.15</td>\n",
       "      <td>15.947995</td>\n",
       "      <td>0.009822</td>\n",
       "      <td>0.845724</td>\n",
       "      <td>-0.154276</td>\n",
       "      <td>0.237552</td>\n",
       "    </tr>\n",
       "    <tr>\n",
       "      <th>15</th>\n",
       "      <td>267.119995</td>\n",
       "      <td>195.15</td>\n",
       "      <td>15.947995</td>\n",
       "      <td>0.009822</td>\n",
       "      <td>0.835728</td>\n",
       "      <td>-0.164272</td>\n",
       "      <td>0.247522</td>\n",
       "    </tr>\n",
       "    <tr>\n",
       "      <th>16</th>\n",
       "      <td>272.859985</td>\n",
       "      <td>195.15</td>\n",
       "      <td>15.947995</td>\n",
       "      <td>0.009822</td>\n",
       "      <td>0.844615</td>\n",
       "      <td>-0.155385</td>\n",
       "      <td>0.238678</td>\n",
       "    </tr>\n",
       "    <tr>\n",
       "      <th>17</th>\n",
       "      <td>276.899994</td>\n",
       "      <td>195.15</td>\n",
       "      <td>15.947995</td>\n",
       "      <td>0.009822</td>\n",
       "      <td>0.850569</td>\n",
       "      <td>-0.149431</td>\n",
       "      <td>0.232568</td>\n",
       "    </tr>\n",
       "    <tr>\n",
       "      <th>18</th>\n",
       "      <td>286.559998</td>\n",
       "      <td>195.15</td>\n",
       "      <td>15.947995</td>\n",
       "      <td>0.009822</td>\n",
       "      <td>0.863862</td>\n",
       "      <td>-0.136138</td>\n",
       "      <td>0.218371</td>\n",
       "    </tr>\n",
       "    <tr>\n",
       "      <th>19</th>\n",
       "      <td>282.190002</td>\n",
       "      <td>195.15</td>\n",
       "      <td>15.947995</td>\n",
       "      <td>0.009822</td>\n",
       "      <td>0.858009</td>\n",
       "      <td>-0.141991</td>\n",
       "      <td>0.224719</td>\n",
       "    </tr>\n",
       "    <tr>\n",
       "      <th>20</th>\n",
       "      <td>276.920013</td>\n",
       "      <td>195.15</td>\n",
       "      <td>15.947995</td>\n",
       "      <td>0.009822</td>\n",
       "      <td>0.850598</td>\n",
       "      <td>-0.149402</td>\n",
       "      <td>0.232538</td>\n",
       "    </tr>\n",
       "    <tr>\n",
       "      <th>21</th>\n",
       "      <td>281.500000</td>\n",
       "      <td>195.15</td>\n",
       "      <td>15.947995</td>\n",
       "      <td>0.009822</td>\n",
       "      <td>0.857061</td>\n",
       "      <td>-0.142939</td>\n",
       "      <td>0.225733</td>\n",
       "    </tr>\n",
       "    <tr>\n",
       "      <th>22</th>\n",
       "      <td>256.339996</td>\n",
       "      <td>195.15</td>\n",
       "      <td>15.947995</td>\n",
       "      <td>0.009822</td>\n",
       "      <td>0.817592</td>\n",
       "      <td>-0.182408</td>\n",
       "      <td>0.264593</td>\n",
       "    </tr>\n",
       "    <tr>\n",
       "      <th>23</th>\n",
       "      <td>265.239990</td>\n",
       "      <td>195.15</td>\n",
       "      <td>15.947995</td>\n",
       "      <td>0.009822</td>\n",
       "      <td>0.832705</td>\n",
       "      <td>-0.167295</td>\n",
       "      <td>0.250458</td>\n",
       "    </tr>\n",
       "    <tr>\n",
       "      <th>24</th>\n",
       "      <td>267.339996</td>\n",
       "      <td>195.15</td>\n",
       "      <td>15.947995</td>\n",
       "      <td>0.009822</td>\n",
       "      <td>0.836079</td>\n",
       "      <td>-0.163921</td>\n",
       "      <td>0.247180</td>\n",
       "    </tr>\n",
       "  </tbody>\n",
       "</table>\n",
       "</div>"
      ],
      "text/plain": [
       "            St       K       Call       Put  Delta_call  Delta_put     Gamma\n",
       "1   195.149994  195.15  15.947995  0.009822    0.669052  -0.330948  0.362565\n",
       "2   201.830002  195.15  15.947995  0.009822    0.689758  -0.310242  0.352913\n",
       "3   214.820007  195.15  15.947995  0.009822    0.726549  -0.273451  0.332742\n",
       "4   221.979996  195.15  15.947995  0.009822    0.744982  -0.255018  0.321122\n",
       "5   217.830002  195.15  15.947995  0.009822    0.734452  -0.265548  0.327887\n",
       "6   212.580002  195.15  15.947995  0.009822    0.720520  -0.279480  0.336320\n",
       "7   222.029999  195.15  15.947995  0.009822    0.745106  -0.254894  0.321040\n",
       "8   215.039993  195.15  15.947995  0.009822    0.727134  -0.272866  0.332389\n",
       "9   219.169998  195.15  15.947995  0.009822    0.737898  -0.262102  0.325711\n",
       "10  231.190002  195.15  15.947995  0.009822    0.766900  -0.233100  0.305922\n",
       "11  242.080002  195.15  15.947995  0.009822    0.790402  -0.209598  0.287877\n",
       "12  244.070007  195.15  15.947995  0.009822    0.794431  -0.205569  0.284594\n",
       "13  259.309998  195.15  15.947995  0.009822    0.822785  -0.177215  0.259835\n",
       "14  273.600006  195.15  15.947995  0.009822    0.845724  -0.154276  0.237552\n",
       "15  267.119995  195.15  15.947995  0.009822    0.835728  -0.164272  0.247522\n",
       "16  272.859985  195.15  15.947995  0.009822    0.844615  -0.155385  0.238678\n",
       "17  276.899994  195.15  15.947995  0.009822    0.850569  -0.149431  0.232568\n",
       "18  286.559998  195.15  15.947995  0.009822    0.863862  -0.136138  0.218371\n",
       "19  282.190002  195.15  15.947995  0.009822    0.858009  -0.141991  0.224719\n",
       "20  276.920013  195.15  15.947995  0.009822    0.850598  -0.149402  0.232538\n",
       "21  281.500000  195.15  15.947995  0.009822    0.857061  -0.142939  0.225733\n",
       "22  256.339996  195.15  15.947995  0.009822    0.817592  -0.182408  0.264593\n",
       "23  265.239990  195.15  15.947995  0.009822    0.832705  -0.167295  0.250458\n",
       "24  267.339996  195.15  15.947995  0.009822    0.836079  -0.163921  0.247180"
      ]
     },
     "execution_count": 105,
     "metadata": {},
     "output_type": "execute_result"
    }
   ],
   "source": [
    "K_1"
   ]
  },
  {
   "cell_type": "markdown",
   "metadata": {},
   "source": [
    "Coberturas \n",
    "opcciones call o put "
   ]
  },
  {
   "cell_type": "code",
   "execution_count": 111,
   "metadata": {},
   "outputs": [],
   "source": [
    "dif_delta1CALL = [K_1[\"Delta_call\"][i+1]-K_1[\"Delta_call\"][i] for i in range(1,len(K_1))]\n",
    "dif_delta2CALL = [K_2[\"Delta_call\"][i+1]-K_2[\"Delta_call\"][i] for i in range(1,len(K_2))]\n",
    "dif_delta3CALL = [K_3[\"Delta_call\"][i+1]-K_3[\"Delta_call\"][i] for i in range(1,len(K_3))]\n",
    "dif_delta4CALL = [K_4[\"Delta_call\"][i+1]-K_4[\"Delta_call\"][i] for i in range(1,len(K_4))]\n",
    "dif_delta5CALL = [K_5[\"Delta_call\"][i+1]-K_5[\"Delta_call\"][i] for i in range(1,len(K_5))]\n",
    "\n",
    "dif_delta1PUT = [K_1[\"Delta_put\"][i+1]-K_1[\"Delta_put\"][i] for i in range(1,len(K_1))]\n",
    "dif_delta2PUT = [K_2[\"Delta_put\"][i+1]-K_2[\"Delta_put\"][i] for i in range(1,len(K_2))]\n",
    "dif_delta3PUT = [K_3[\"Delta_put\"][i+1]-K_3[\"Delta_put\"][i] for i in range(1,len(K_3))]\n",
    "dif_delta4PUT = [K_4[\"Delta_put\"][i+1]-K_4[\"Delta_put\"][i] for i in range(1,len(K_4))]\n",
    "dif_delta5PUT = [K_5[\"Delta_put\"][i+1]-K_5[\"Delta_put\"][i] for i in range(1,len(K_5))]"
   ]
  },
  {
   "cell_type": "code",
   "execution_count": 120,
   "metadata": {},
   "outputs": [],
   "source": [
    "factor = [1.2 if K_1[\"Gamma\"][i]>=0.8 else 0.8 if K_1[\"Gamma\"][i]<=0.4 else 1 for i in range(1, len(K_1))]"
   ]
  },
  {
   "cell_type": "code",
   "execution_count": 136,
   "metadata": {},
   "outputs": [
    {
     "data": {
      "text/plain": [
       "[0.5352412042764361, 0]"
      ]
     },
     "execution_count": 136,
     "metadata": {},
     "output_type": "execute_result"
    }
   ],
   "source": [
    "Activo_acum = [K_1[\"Delta_call\"].iloc[0]*factor[0]]\n",
    "\n",
    "Activo_acum.append()\n"
   ]
  }
 ],
 "metadata": {
  "kernelspec": {
   "display_name": "Python 3",
   "language": "python",
   "name": "python3"
  },
  "language_info": {
   "codemirror_mode": {
    "name": "ipython",
    "version": 3
   },
   "file_extension": ".py",
   "mimetype": "text/x-python",
   "name": "python",
   "nbconvert_exporter": "python",
   "pygments_lexer": "ipython3",
   "version": "3.8.8"
  }
 },
 "nbformat": 4,
 "nbformat_minor": 2
}
