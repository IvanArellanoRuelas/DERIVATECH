{
 "cells": [
  {
   "cell_type": "code",
   "execution_count": 1,
   "metadata": {},
   "outputs": [
    {
     "name": "stdout",
     "output_type": "stream",
     "text": [
      "Basic Materials\n"
     ]
    },
    {
     "name": "stderr",
     "output_type": "stream",
     "text": [
      "100%|██████████████████████████████████████████████████████████████████████████████████| 13/13 [00:04<00:00,  2.81it/s]\n"
     ]
    }
   ],
   "source": [
    "from tkinter import *\n",
    "from tkinter import ttk\n",
    "import numpy as np\n",
    "import pandas as pd\n",
    "from scipy.stats import norm\n",
    "from yahoofinancials import YahooFinancials\n",
    "import plotly.express as px\n",
    "import scipy.optimize as opt\n",
    "import pandas_datareader.data as web\n",
    "import datetime as date\n",
    "import mplfinance as mpf\n",
    "import yfinance as yf\n",
    "from scipy.stats import norm\n",
    "import matplotlib.pyplot as plt\n",
    "import data as dt\n",
    "import Funciones as f\n",
    "from scipy.stats import norm\n",
    "import scipy.stats as sta"
   ]
  },
  {
   "cell_type": "code",
   "execution_count": 2,
   "metadata": {},
   "outputs": [],
   "source": [
    "tickerr = dt.Tickets[:10]"
   ]
  },
  {
   "cell_type": "code",
   "execution_count": 3,
   "metadata": {},
   "outputs": [],
   "source": [
    "#tickerr = [\"AAPL\", \"FB\", \"SHOP\", \"C\", \"AMZN\", \"MSFT\", \"EPD\", \"KO\", \"TSLA\",\"WMT\"]\n",
    "prices = web.DataReader(name = tickerr, data_source = \"yahoo\",\n",
    "              start= \"2022-01-01\")[\"Adj Close\"].dropna()"
   ]
  },
  {
   "cell_type": "code",
   "execution_count": 4,
   "metadata": {},
   "outputs": [],
   "source": [
    "#pip install --upgrade yfinance"
   ]
  },
  {
   "cell_type": "code",
   "execution_count": 5,
   "metadata": {
    "scrolled": false
   },
   "outputs": [
    {
     "name": "stdout",
     "output_type": "stream",
     "text": [
      "[*********************100%***********************]  1 of 1 completed\n",
      "[*********************100%***********************]  1 of 1 completed\n",
      "[*********************100%***********************]  1 of 1 completed\n",
      "[*********************100%***********************]  1 of 1 completed\n",
      "[*********************100%***********************]  1 of 1 completed\n",
      "[*********************100%***********************]  1 of 1 completed\n",
      "[*********************100%***********************]  1 of 1 completed\n",
      "[*********************100%***********************]  1 of 1 completed\n",
      "[*********************100%***********************]  1 of 1 completed\n",
      "[*********************100%***********************]  1 of 1 completed\n"
     ]
    }
   ],
   "source": [
    "resultado=np.zeros(len(tickerr))\n",
    "for i in range(len(tickerr)):\n",
    "    datos=yf.download(tickerr[i], period='1d', interval='1m')\n",
    "    price=datos.iloc[-1,3]\n",
    "    resultado[i]=price"
   ]
  },
  {
   "cell_type": "code",
   "execution_count": 6,
   "metadata": {},
   "outputs": [],
   "source": [
    "test = prices\n",
    "mausherramienta = test.iloc[-24:,:]"
   ]
  },
  {
   "cell_type": "code",
   "execution_count": 7,
   "metadata": {},
   "outputs": [
    {
     "data": {
      "text/plain": [
       "array([ 67.98999786, 309.72000122,  72.66999817,  16.70000076,\n",
       "       103.80999756,  41.90999985, 244.91999817,  74.51999664,\n",
       "        66.13999939, 242.91999817])"
      ]
     },
     "execution_count": 7,
     "metadata": {},
     "output_type": "execute_result"
    }
   ],
   "source": [
    "prices.iloc[-25,:] = resultado\n",
    "resultado"
   ]
  },
  {
   "cell_type": "code",
   "execution_count": 8,
   "metadata": {},
   "outputs": [],
   "source": [
    "#Analisis RSI \n",
    "# data = yf.download(tickers, period='1d', interval='1m')\n",
    "data = prices.iloc[:-25,:]\n",
    "\n",
    "RSII = pd.DataFrame()\n",
    "for i in range(len(tickerr)):\n",
    "    \n",
    "    delta = data.iloc[:,i].diff(1)\n",
    "    delta.dropna(inplace=True)\n",
    "\n",
    "    positive = delta.copy()\n",
    "    negative = delta.copy()\n",
    "\n",
    "    positive[positive < 0 ]=0\n",
    "    negative[negative > 0 ]=0\n",
    "    days = 14\n",
    "    avrg_gain = positive.rolling(window=days).mean()\n",
    "    avrg_loss = abs(negative.rolling(window=days).mean())\n",
    "\n",
    "    rltv_strength = avrg_gain/avrg_loss\n",
    "    RSI = 100-(100/(1+rltv_strength))\n",
    "\n",
    "    combined = pd.DataFrame()\n",
    "    combined[\"Close\"] =  data.iloc[:,i]\n",
    "    combined[\"RSI\"] = RSI\n",
    "    RSII[i] = RSI\n",
    "\n",
    "    \n",
    "RSII  = pd.DataFrame(RSII)\n",
    "RSII.columns = tickerr\n",
    "RSI_HOY = RSII.iloc[len(RSII)-1,:]"
   ]
  },
  {
   "cell_type": "code",
   "execution_count": 9,
   "metadata": {},
   "outputs": [],
   "source": [
    "RSI_HOY=pd.DataFrame(RSI_HOY)"
   ]
  },
  {
   "cell_type": "code",
   "execution_count": 10,
   "metadata": {},
   "outputs": [],
   "source": [
    "ws  = Tk()\n",
    "ws.title('RSI Analysis')\n",
    "ws.geometry('500x500')\n",
    "#ws['bg'] = '#AC99F2'\n",
    "game_frame = Frame(ws)\n",
    "game_frame.pack()\n",
    "my_game = ttk.Treeview(game_frame)\n",
    "my_game['columns'] = ('TICKER','STATUS','PRICE')\n",
    "\n",
    "my_game.column(\"#0\", width=0,  stretch=NO)\n",
    "my_game.column(\"TICKER\",anchor=CENTER, width=80)\n",
    "my_game.column(\"STATUS\",anchor=CENTER,width=80)\n",
    "my_game.column(\"PRICE\",anchor=CENTER,width=80)\n",
    "\n",
    "my_game.heading(\"#0\",text=\"\",anchor=CENTER)\n",
    "my_game.heading(\"TICKER\",text=\"TICKER\",anchor=CENTER)\n",
    "my_game.heading(\"STATUS\",text=\"STATUS\",anchor=CENTER)\n",
    "my_game.heading(\"PRICE\",text=\"PRICE\",anchor=CENTER)\n",
    "\n",
    "for i in range(len(tickerr)-1):\n",
    "    if(RSI_HOY.iloc[i,0]<30):\n",
    "        my_game.insert(parent='',index='end',text='', values=(tickerr[i],'BUY',np.round((resultado[i]),4)))\n",
    "    if(RSI_HOY.iloc[i,0]>70):\n",
    "        my_game.insert(parent='',index='end',text='', values=(tickerr[i],'SELL',np.round((resultado[i]),4)))\n",
    "    if((RSI_HOY.iloc[i,0]>=30) & (RSI_HOY.iloc[i,0]<=70)):\n",
    "        my_game.insert(parent='',index='end',text='', values=(tickerr[i],'HOLD',np.round((resultado[i]),4)))\n",
    "\n",
    "my_game.pack()\n",
    "\n",
    "\n",
    "import tkinter\n",
    "\n",
    "Etiqueta = ttk.Label(ws,text='Select your stock')\n",
    "Etiqueta.pack()\n",
    "\n",
    "n = tkinter.StringVar(ws)\n",
    "n.set(tickerr[0])\n",
    "\n",
    "seleccion = tkinter.OptionMenu(ws,n,*tickerr)\n",
    "seleccion.pack()\n",
    "\n",
    "def Close():\n",
    "    a = n.get()\n",
    "    ws.destroy()\n",
    "\n",
    "exit_button = tkinter.Button(ws, text=\"Choose\", command= lambda :Close())\n",
    "exit_button.pack(pady=20)\n",
    "\n",
    "    \n",
    "ws.mainloop()\n",
    "\n",
    "\n",
    "activo = n.get()\n",
    "if (RSI_HOY.T[activo][0]<30):\n",
    "    Eleccion = 'Call'\n",
    "elif(RSI_HOY.T[activo][0]>70):\n",
    "    Eleccion = 'Put'\n",
    "else:\n",
    "    Eleccion = 'Call'"
   ]
  },
  {
   "cell_type": "code",
   "execution_count": null,
   "metadata": {},
   "outputs": [],
   "source": []
  },
  {
   "cell_type": "code",
   "execution_count": null,
   "metadata": {},
   "outputs": [],
   "source": []
  },
  {
   "cell_type": "code",
   "execution_count": 11,
   "metadata": {},
   "outputs": [
    {
     "data": {
      "text/plain": [
       "array([0., 0., 0.])"
      ]
     },
     "execution_count": 11,
     "metadata": {},
     "output_type": "execute_result"
    }
   ],
   "source": [
    "np.zeros(len(activo))"
   ]
  },
  {
   "cell_type": "code",
   "execution_count": 12,
   "metadata": {},
   "outputs": [
    {
     "name": "stdout",
     "output_type": "stream",
     "text": [
      "[*********************100%***********************]  1 of 1 completed\n"
     ]
    }
   ],
   "source": [
    "resultado=np.zeros(len(activo))\n",
    "datos=yf.download(activo, period='1d', interval='1m')\n",
    "price=datos.iloc[-1,3]\n",
    "st = price   "
   ]
  },
  {
   "cell_type": "code",
   "execution_count": 13,
   "metadata": {},
   "outputs": [],
   "source": [
    "def griegas(r,sigma,st,k,T=1/12,t=0):\n",
    "    d_c = f.delta_call(St,k,T,t,r,sigma)\n",
    "    d_p = f.delta_put(St,k,T,t,r,sigma)\n",
    "    v   = f.vega(St,k,T,t,r,sigma)\n",
    "    t_c = f.theta_call(St,k,T,t,r,sigma)\n",
    "    t_p = f.theta_put(St,k,T,t,r,sigma)\n",
    "    r_c = f.rho_call(St,k,T,t,r,sigma)\n",
    "    r_p = f.rho_put(St,k,T,t,r,sigma)\n",
    "    g   = f.gamma(St,k,T,t,r,sigma)\n",
    "    van = f.vanna(St,k,T,t,r,sigma)\n",
    "    vol = f.volga(St,k,T,t,r,sigma)\n",
    "    col = f.color(St,k,T,t,r,sigma)\n",
    "    \n",
    "    \n",
    "    return d_c,d_p,v,t_c,t_p,r_c,r_p,g,van,vol,col"
   ]
  },
  {
   "cell_type": "code",
   "execution_count": 14,
   "metadata": {},
   "outputs": [
    {
     "name": "stdout",
     "output_type": "stream",
     "text": [
      "[*********************100%***********************]  1 of 1 completed\n",
      "[*********************100%***********************]  1 of 1 completed\n",
      "[*********************100%***********************]  1 of 1 completed\n",
      "[*********************100%***********************]  1 of 1 completed\n",
      "[*********************100%***********************]  1 of 1 completed\n"
     ]
    }
   ],
   "source": [
    "#ITERACIÓN\n",
    "import time \n",
    "\n",
    "\n",
    "contador = 0\n",
    "while contador < 5:\n",
    "    \n",
    "\n",
    "    resultado=np.zeros(len(activo))\n",
    "    datos=yf.download(activo, period='1d', interval='1m')\n",
    "    price=datos.iloc[-1,3]\n",
    "    st = price \n",
    "\n",
    "    r = .0852\n",
    "    T = 1\n",
    "    t = 0\n",
    "    ret_log = np.log(datos.iloc[:,3]/datos.iloc[:,3].shift(1)).dropna()\n",
    "    cambio_porcentual_anual = ret_log.iloc[-1]*(252)\n",
    "    sigma = np.std(ret_log)*np.sqrt(252)\n",
    "    St = st \n",
    "    k = [St,St*(1+sigma),St*(1+2*sigma),St*(1-sigma),St*(1-2*sigma)]\n",
    "\n",
    "    d1= [(np.log(St/k[i])+(r +0.5*sigma**2)*(T-t))/(sigma*np.sqrt(T-t)) for i in range(0,len(k))]\n",
    "    d2= [(np.log(St/k[i])+(r -0.5*sigma**2)*(T-t))/(sigma*np.sqrt(T-t)) for i in range(0,len(k))]\n",
    "\n",
    "    precio_justo_call = [st*sta.norm.cdf(d1[i],0,1)-k[i]*np.exp(-r*(T-t))*sta.norm.cdf(d2[i],0,1) for i in range(0,len(d1))]\n",
    "    precio_justo_put = [k[i]*np.exp(-r*(T-t))*sta.norm.cdf(-d2[i],0,1)-st*sta.norm.cdf(-d1[i],0,1) for i in range(0,len(d1))]\n",
    "\n",
    "\n",
    "    k = np.round(k,3)\n",
    "    precio_justo_call = precio_justo_call\n",
    "    precio_justo_put = precio_justo_put\n",
    "\n",
    "\n",
    "    a = [griegas(r/12,sigma,st,k[i],T=1/12,t=0) for i in range(0,len(k))]\n",
    "    a = a\n",
    "\n",
    "\n",
    "    k1 = [0,k[0],precio_justo_call[0],precio_justo_put[0],a[0][0],a[0][1],a[0][2],a[0][3],a[0][4],\n",
    "         a[0][5],a[0][6],a[0][7],a[0][8],a[0][9],a[0][10]]\n",
    "\n",
    "    k2 = [0,k[1],precio_justo_call[1],precio_justo_put[1],a[1][0],a[1][1],a[1][2],a[1][3],a[1][4],\n",
    "         a[1][5],a[1][6],a[1][7],a[1][8],a[1][9],a[1][10]]\n",
    "\n",
    "    k3 = [0,k[2],precio_justo_call[2],precio_justo_put[2],a[2][0],a[2][1],a[2][2],a[2][3],a[2][4],\n",
    "         a[2][5],a[2][6],a[2][7],a[2][8],a[2][9],a[2][10]]\n",
    "\n",
    "    k4 = [0,k[3],precio_justo_call[3],precio_justo_put[3],a[3][0],a[3][1],a[3][2],a[3][3],a[3][4],\n",
    "         a[3][5],a[3][6],a[3][7],a[3][8],a[3][9],a[3][10]]\n",
    "\n",
    "\n",
    "    k5 = [0,k[4],precio_justo_call[4],precio_justo_put[4],a[4][0],a[4][1],a[4][2],a[4][3],a[4][4],\n",
    "         a[4][5],a[4][6],a[4][7],a[4][8],a[4][9],a[4][10]]\n",
    "\n",
    "\n",
    "    ws  = Tk()\n",
    "    ws.title('Griegas '+activo)\n",
    "\n",
    "    #ws['bg'] = '#AC99F2'\n",
    "    game_frame = Frame(ws)\n",
    "    game_frame.pack()\n",
    "    my_game = ttk.Treeview(game_frame)\n",
    "    my_game['columns'] = ('p','k','call','put','Delta_Call','Delta_put','Vega','Theta_call'\n",
    "                               ,'Theta_put','rho_call','rho_put','gamma',\n",
    "                              'vanna','volga','color')\n",
    "\n",
    "    my_game.column(\"p\", width=0,  stretch=NO)\n",
    "    my_game.column(\"k\",anchor=CENTER, width=80)\n",
    "    my_game.column(\"call\",anchor=CENTER, width=80)\n",
    "    my_game.column(\"put\",anchor=CENTER, width=80)\n",
    "    my_game.column(\"Delta_Call\",anchor=CENTER, width=80)\n",
    "    my_game.column(\"Delta_put\",anchor=CENTER,width=80)\n",
    "    my_game.column(\"Vega\",anchor=CENTER,width=80)\n",
    "    my_game.column(\"Theta_call\",anchor=CENTER,width=80)\n",
    "    my_game.column(\"Theta_put\",anchor=CENTER,width=80)\n",
    "    my_game.column(\"rho_call\",anchor=CENTER,width=80)\n",
    "    my_game.column(\"rho_put\",anchor=CENTER,width=80)\n",
    "    my_game.column(\"gamma\",anchor=CENTER,width=80)\n",
    "    my_game.column(\"vanna\",anchor=CENTER,width=80)\n",
    "    my_game.column(\"volga\",anchor=CENTER,width=80)\n",
    "    my_game.column(\"color\",anchor=CENTER,width=80)\n",
    "\n",
    "    my_game.heading(\"p\",text=\" \",anchor=CENTER)\n",
    "    my_game.heading(\"k\",text=\"k\",anchor=CENTER)\n",
    "    my_game.heading(\"call\",text=\"call\",anchor=CENTER)\n",
    "    my_game.heading(\"put\",text=\"put\",anchor=CENTER)\n",
    "    my_game.heading(\"Delta_Call\",text=\"Delta_Call\",anchor=CENTER)\n",
    "    my_game.heading(\"Delta_put\",text=\"Delta_put\",anchor=CENTER)\n",
    "    my_game.heading(\"Vega\",text=\"Vega\",anchor=CENTER)\n",
    "    my_game.heading(\"Theta_call\",text=\"Theta_call\",anchor=CENTER)\n",
    "    my_game.heading(\"Theta_put\",text=\"Theta_put\",anchor=CENTER)\n",
    "    my_game.heading(\"rho_call\",text=\"rho_call\",anchor=CENTER)\n",
    "    my_game.heading(\"rho_put\",text=\"rho_put\",anchor=CENTER)\n",
    "    my_game.heading(\"gamma\",text=\"gamma\",anchor=CENTER)\n",
    "    my_game.heading(\"vanna\",text=\"vanna\",anchor=CENTER)\n",
    "    my_game.heading(\"volga\",text=\"volga\",anchor=CENTER)\n",
    "    my_game.heading(\"color\",text=\"color\",anchor=CENTER)\n",
    "\n",
    "    my_game.insert(parent='',index='end',text='', values=(k1))\n",
    "    my_game.insert(parent='',index='end',text='', values=(k2))\n",
    "    my_game.insert(parent='',index='end',text='', values=(k3))\n",
    "    my_game.insert(parent='',index='end',text='', values=(k4))\n",
    "    my_game.insert(parent='',index='end',text='', values=(k5))\n",
    "    my_game.pack()\n",
    "    \n",
    "    # Se actualizara la tabla \n",
    "    def cerrar():\n",
    "        ws.destroy()\n",
    "    \n",
    "    ws.after(90000,cerrar)\n",
    "    contador = contador+1 \n",
    "    ws.mainloop()\n",
    "\n",
    "    \n",
    "        \n",
    "    #ws.destroy()\n",
    "    \n",
    "    "
   ]
  },
  {
   "cell_type": "markdown",
   "metadata": {},
   "source": [
    "# Backtest"
   ]
  },
  {
   "cell_type": "code",
   "execution_count": 15,
   "metadata": {},
   "outputs": [
    {
     "data": {
      "text/plain": [
       "(array([67.99 , 68.999, 70.007, 66.981, 65.973]),\n",
       " [5.552838290949943,\n",
       "  4.626582706454101,\n",
       "  3.7003455164160357,\n",
       "  6.479094066596936,\n",
       "  7.405349842982297],\n",
       " [7.404024589981224e-10,\n",
       "  1.9263095756416463e-07,\n",
       "  1.877897928107778e-05,\n",
       "  1.004191210302805e-12,\n",
       "  4.534257085548864e-16])"
      ]
     },
     "execution_count": 15,
     "metadata": {},
     "output_type": "execute_result"
    }
   ],
   "source": [
    "k,precio_justo_call,precio_justo_put\n"
   ]
  },
  {
   "cell_type": "code",
   "execution_count": 16,
   "metadata": {},
   "outputs": [],
   "source": [
    "Delta_1 = [a[i][0:2] for i in range (0,5)]"
   ]
  },
  {
   "cell_type": "code",
   "execution_count": 17,
   "metadata": {},
   "outputs": [],
   "source": [
    "Gamma_1 = [a[i][7] for i in range (0,5)]"
   ]
  },
  {
   "cell_type": "code",
   "execution_count": 18,
   "metadata": {},
   "outputs": [
    {
     "data": {
      "text/plain": [
       "0.5557858125228412"
      ]
     },
     "execution_count": 18,
     "metadata": {},
     "output_type": "execute_result"
    }
   ],
   "source": [
    "Delta_1[0][0]"
   ]
  },
  {
   "cell_type": "code",
   "execution_count": 19,
   "metadata": {},
   "outputs": [
    {
     "data": {
      "text/html": [
       "<div>\n",
       "<style scoped>\n",
       "    .dataframe tbody tr th:only-of-type {\n",
       "        vertical-align: middle;\n",
       "    }\n",
       "\n",
       "    .dataframe tbody tr th {\n",
       "        vertical-align: top;\n",
       "    }\n",
       "\n",
       "    .dataframe thead th {\n",
       "        text-align: right;\n",
       "    }\n",
       "</style>\n",
       "<table border=\"1\" class=\"dataframe\">\n",
       "  <thead>\n",
       "    <tr style=\"text-align: right;\">\n",
       "      <th></th>\n",
       "      <th>0</th>\n",
       "      <th>1</th>\n",
       "      <th>2</th>\n",
       "      <th>3</th>\n",
       "      <th>4</th>\n",
       "      <th>5</th>\n",
       "      <th>6</th>\n",
       "    </tr>\n",
       "  </thead>\n",
       "  <tbody>\n",
       "    <tr>\n",
       "      <th>0</th>\n",
       "      <td>67.989998</td>\n",
       "      <td>67.99</td>\n",
       "      <td>5.552838</td>\n",
       "      <td>7.404025e-10</td>\n",
       "      <td>0.555786</td>\n",
       "      <td>-0.444214</td>\n",
       "      <td>0.395036</td>\n",
       "    </tr>\n",
       "  </tbody>\n",
       "</table>\n",
       "</div>"
      ],
      "text/plain": [
       "           0      1         2             3         4         5         6\n",
       "0  67.989998  67.99  5.552838  7.404025e-10  0.555786 -0.444214  0.395036"
      ]
     },
     "execution_count": 19,
     "metadata": {},
     "output_type": "execute_result"
    }
   ],
   "source": [
    "Delta_1 = [a[i][0:2] for i in range (0,5)]\n",
    "Gamma_1 = [a[i][7] for i in range (0,5)]\n",
    "Test = pd.DataFrame([st,k[0],precio_justo_call[0],precio_justo_put[0],Delta_1[0][0],Delta_1[0][1],Gamma_1[0]]).T\n",
    "#Test.rename(columns = {0:'St', 1:'K',2:'Call',3:'Put',4:'Delta_call',5:'Delta_put',6:'Gamma'}, inplace = True)\n",
    "Test"
   ]
  },
  {
   "cell_type": "code",
   "execution_count": 20,
   "metadata": {},
   "outputs": [],
   "source": [
    "lista = pd.DataFrame([st,k[0],precio_justo_call[0],precio_justo_put[0],Delta_1[0][0],Delta_1[0][1],Gamma_1[0]]).T\n"
   ]
  },
  {
   "cell_type": "code",
   "execution_count": 21,
   "metadata": {},
   "outputs": [
    {
     "data": {
      "text/plain": [
       "array([0., 0., 0., 0., 0., 0., 0., 0., 0., 0., 0., 0., 0., 0., 0., 0., 0.,\n",
       "       0., 0., 0., 0., 0., 0., 0., 0.])"
      ]
     },
     "execution_count": 21,
     "metadata": {},
     "output_type": "execute_result"
    }
   ],
   "source": [
    "np.zeros(len(mausherramienta[activo])+1)"
   ]
  },
  {
   "cell_type": "code",
   "execution_count": 22,
   "metadata": {
    "scrolled": false
   },
   "outputs": [],
   "source": [
    "def back_test(k, precio_justo_call, precio_justo_put):\n",
    "    r = .0852\n",
    "    T = 24/252\n",
    "    t = 0\n",
    "    ret_log = np.log(mausherramienta[activo]/mausherramienta[activo].shift(1)).dropna()\n",
    "    cambio_porcentual_anual = ret_log.iloc[-1]*(252)\n",
    "    sigma = np.std(ret_log)*np.sqrt(252)\n",
    "    CALIZ = np.zeros(7)\n",
    "    CALIZ = pd.DataFrame(CALIZ)\n",
    "    \n",
    "    for i in range (1,len(mausherramienta[activo])+1):\n",
    "        st = mausherramienta[activo][-i]\n",
    "        k_ = k\n",
    "        call = precio_justo_call\n",
    "        put = precio_justo_put\n",
    "        Delta_call = f.delta_call(st,k_,T,t,r,sigma)\n",
    "        Delta_put =  f.delta_put(st,k_,T,t,r,sigma)\n",
    "        gamma = f.gamma(st,k_,T,t,r,sigma)\n",
    "        lista = pd.DataFrame([st,k_,call,put,Delta_call,Delta_put,gamma])\n",
    "        CALIZ[i] = lista\n",
    "        T=T-(1/252)\n",
    "\n",
    "\n",
    "    CALIZ.drop(0, axis=1, inplace=True)\n",
    "    CALIZ = CALIZ.T\n",
    "    CALIZ.rename(columns = {0:'St', 1:'K',2:'Call',3:'Put',4:'Delta_call',5:'Delta_put',6:'Gamma'}, inplace = True)\n",
    "    \n",
    "    return CALIZ"
   ]
  },
  {
   "cell_type": "code",
   "execution_count": 23,
   "metadata": {},
   "outputs": [],
   "source": [
    "K_1 = back_test(k[0], precio_justo_call[0], precio_justo_put[0])\n",
    "K_2 = back_test(k[1], precio_justo_call[1], precio_justo_put[1])\n",
    "K_3 = back_test(k[2], precio_justo_call[2], precio_justo_put[2])\n",
    "K_4 = back_test(k[3], precio_justo_call[3], precio_justo_put[3])\n",
    "K_5 = back_test(k[4], precio_justo_call[4], precio_justo_put[4])"
   ]
  },
  {
   "cell_type": "markdown",
   "metadata": {},
   "source": [
    "Coberturas \n",
    "opcciones call o put "
   ]
  },
  {
   "cell_type": "markdown",
   "metadata": {},
   "source": [
    "Segunda tabla CALL"
   ]
  },
  {
   "cell_type": "code",
   "execution_count": 24,
   "metadata": {},
   "outputs": [],
   "source": [
    "def segunda_tabla_call(K_1):\n",
    "    \n",
    "    dif_delta1CALL = [K_1[\"Delta_call\"][i+1]-K_1[\"Delta_call\"][i] for i in range(1,len(K_1))]\n",
    "    \n",
    "    factor = [1.2 if K_1[\"Gamma\"][i]>=0.8 else 0.8 if K_1[\"Gamma\"][i]<=0.4 else 1 for i in range(1, len(K_1))]\n",
    "    \n",
    "    \n",
    "    compra_activo=[K_1[\"St\"].iloc[0]*K_1[\"Delta_call\"].iloc[0]]\n",
    "    \n",
    "    for i in range(len(dif_delta1CALL)):\n",
    "        compra_activo.append(K_1[\"St\"][i+1]*dif_delta1CALL[i])\n",
    "        \n",
    "    \n",
    "    Activo_acum = [K_1[\"Delta_call\"].iloc[0]*factor[0]]\n",
    "\n",
    "    for i in range(len(dif_delta1CALL)):\n",
    "        Activo_acum.append(Activo_acum[i]+dif_delta1CALL[i]*factor[i])    \n",
    "    \n",
    "    \n",
    "    costo_acum = [compra_activo[0]]\n",
    "\n",
    "    for i in range(len(dif_delta1CALL)):\n",
    "        costo_acum.append(costo_acum[i]+compra_activo[i+1])\n",
    "        \n",
    "    ganancia_diaria= [np.max((K_1[\"St\"].iloc[i]-K_1[\"K\"].iloc[i]),0) for i in range(len(K_1))]\n",
    "    \n",
    "    costo_total=costo_acum[-1]\n",
    "    \n",
    "    primas=K_1[\"Call\"]\n",
    "    primas=-primas.iloc[-1]\n",
    "    \n",
    "    total=costo_total+primas\n",
    "    \n",
    "    no_cubrir=K_1[\"St\"].iloc[-1]\n",
    "    \n",
    "    beneficio=no_cubrir-total\n",
    "    \n",
    "    f=np.zeros(len(dif_delta1CALL)+1)\n",
    "    \n",
    "    for i in range(len(dif_delta1CALL)):\n",
    "        f[i+1]=dif_delta1CALL[i]\n",
    "    \n",
    "    lista = pd.DataFrame([f,compra_activo,Activo_acum,costo_acum,ganancia_diaria])\n",
    "    \n",
    "    lista = lista.T\n",
    "    lista.rename(columns = {0:'Diff', 1:'compra_activo',2:'Activo_acum',3:'Acum_dinero',4:'Ganancia_diaria'}, inplace = True)\n",
    "    \n",
    "    \n",
    "    return lista, costo_total,primas,total,no_cubrir,beneficio"
   ]
  },
  {
   "cell_type": "code",
   "execution_count": 25,
   "metadata": {},
   "outputs": [],
   "source": [
    "st_k1_call=segunda_tabla_call(K_1)\n",
    "st_k2_call=segunda_tabla_call(K_2)\n",
    "st_k3_call=segunda_tabla_call(K_3)\n",
    "st_k4_call=segunda_tabla_call(K_4)\n",
    "st_k5_call=segunda_tabla_call(K_5)"
   ]
  },
  {
   "cell_type": "markdown",
   "metadata": {},
   "source": [
    "Segunda tabla PUT (verificar)"
   ]
  },
  {
   "cell_type": "code",
   "execution_count": 26,
   "metadata": {},
   "outputs": [],
   "source": [
    "def segunda_tabla_put(K_1):\n",
    "    \n",
    "    dif_delta1PUT = [K_1[\"Delta_put\"][i+1]-K_1[\"Delta_put\"][i] for i in range(1,len(K_1))]\n",
    "    \n",
    "    factor = [1.2 if K_1[\"Gamma\"][i]>=0.8 else 0.8 if K_1[\"Gamma\"][i]<=0.4 else 1 for i in range(1,len(K_1))]\n",
    "    \n",
    "    \n",
    "    compra_activo=[K_1[\"St\"].iloc[0]*K_1[\"Delta_put\"].iloc[0]]\n",
    "    \n",
    "    for i in range(len(dif_delta1PUT)):\n",
    "        compra_activo.append(K_1[\"St\"][i+1]*dif_delta1PUT[i])\n",
    "        \n",
    "    \n",
    "    Activo_acum = [K_1[\"Delta_put\"].iloc[0]*factor[0]]\n",
    "\n",
    "    for i in range(len(dif_delta1PUT)):\n",
    "        Activo_acum.append(Activo_acum[i]+dif_delta1PUT[i]*factor[i])    \n",
    "    \n",
    "    \n",
    "    costo_acum = [compra_activo[0]]\n",
    "\n",
    "    for i in range(len(dif_delta1PUT)):\n",
    "        costo_acum.append(costo_acum[i]+compra_activo[i+1])\n",
    "        \n",
    "    ganancia_diaria= [np.max((K_1[\"St\"].iloc[i]-K_1[\"K\"].iloc[i]),0) for i in range(len(K_1))]\n",
    "    \n",
    "    costo_total=costo_acum[-1]\n",
    "    \n",
    "    primas=K_1[\"Put\"]\n",
    "    primas=-primas.iloc[-1]\n",
    "    \n",
    "    total=costo_total-primas\n",
    "    \n",
    "    no_cubrir=K_1[\"St\"].iloc[-1]\n",
    "    \n",
    "    beneficio=no_cubrir-total\n",
    "    \n",
    "    f=np.zeros(len(dif_delta1PUT)+1)\n",
    "    \n",
    "    for i in range(len(dif_delta1PUT)):\n",
    "        f[i+1]=dif_delta1PUT[i]\n",
    "    \n",
    "    lista = pd.DataFrame([f,compra_activo,Activo_acum,costo_acum,ganancia_diaria])\n",
    "    \n",
    "    lista = lista.T\n",
    "    lista.rename(columns = {0:'Diff', 1:'compra_activo',2:'Activo_acum',3:'Acum_dinero',4:'Ganancia_diaria'}, inplace = True)\n",
    "    \n",
    "    \n",
    "    return lista, costo_total,primas,total,no_cubrir,beneficio"
   ]
  },
  {
   "cell_type": "code",
   "execution_count": 27,
   "metadata": {},
   "outputs": [],
   "source": [
    "st_k1_put=segunda_tabla_put(K_1)\n",
    "st_k2_put=segunda_tabla_put(K_2)\n",
    "st_k3_put=segunda_tabla_put(K_3)\n",
    "st_k4_put=segunda_tabla_put(K_4)\n",
    "st_k5_put=segunda_tabla_put(K_5)"
   ]
  },
  {
   "cell_type": "code",
   "execution_count": 28,
   "metadata": {},
   "outputs": [],
   "source": [
    "K1_Final = {'Call':pd.concat([K_1.reset_index(), st_k1_call[0]], axis=1),\n",
    "            'Put': pd.concat([K_1.reset_index(), st_k1_put[0]], axis=1)}\n",
    "\n",
    "K2_Final = {'Call':pd.concat([K_2.reset_index(), st_k2_call[0]], axis=1),\n",
    "            'Put': pd.concat([K_2.reset_index(), st_k2_put[0]], axis=1)}\n",
    "\n",
    "K3_Final = {'Call':pd.concat([K_3.reset_index(), st_k3_call[0]], axis=1),\n",
    "            'Put': pd.concat([K_3.reset_index(), st_k3_put[0]], axis=1)}\n",
    "\n",
    "K4_Final = {'Call':pd.concat([K_4.reset_index(), st_k4_call[0]], axis=1),\n",
    "            'Put': pd.concat([K_4.reset_index(), st_k4_put[0]], axis=1)}\n",
    "\n",
    "K5_Final = {'Call':pd.concat([K_5.reset_index(), st_k5_call[0]], axis=1),\n",
    "            'Put': pd.concat([K_5.reset_index(), st_k5_put[0]], axis=1)}"
   ]
  },
  {
   "cell_type": "code",
   "execution_count": 29,
   "metadata": {},
   "outputs": [],
   "source": [
    "Ganancias1 = {'Call':st_k1_call[1:],\n",
    "            'Put': st_k1_put[1:]}\n",
    "\n",
    "Ganancias2 = {'Call': st_k2_call[1:],\n",
    "            'Put': st_k2_put[1:]}\n",
    "\n",
    "Ganancias3 = {'Call': st_k3_call[1:],\n",
    "            'Put': st_k3_put[1:]}\n",
    "\n",
    "Ganancias4 = {'Call': st_k4_call[1:],\n",
    "            'Put': st_k4_put[1:]}\n",
    "\n",
    "Ganancias5 = {'Call':st_k5_call[1:],\n",
    "            'Put': st_k5_put[1:]}\n",
    "\n"
   ]
  },
  {
   "cell_type": "code",
   "execution_count": 30,
   "metadata": {},
   "outputs": [
    {
     "name": "stdout",
     "output_type": "stream",
     "text": [
      "67.99 (68.34787678012526, -5.552838290949943, 62.79503848917532, 71.63999938964844, 8.844960900473119)\n",
      "68.999 (65.52063885523016, -4.626582706454101, 60.89405614877606, 71.63999938964844, 10.745943240872379)\n",
      "70.007 (57.943164179424144, -3.7003455164160357, 54.24281866300811, 71.63999938964844, 17.39718072664033)\n",
      "66.981 (68.9727537434965, -6.479094066596936, 62.49365967689956, 71.63999938964844, 9.146339712748876)\n",
      "65.973 (68.94400143590863, -7.405349842982297, 61.538651592926335, 71.63999938964844, 10.101347796722102)\n"
     ]
    }
   ],
   "source": [
    "print(k[0],Ganancias1[Eleccion])\n",
    "print(k[1],Ganancias2[Eleccion])\n",
    "print(k[2],Ganancias3[Eleccion])\n",
    "print(k[3],Ganancias4[Eleccion])\n",
    "print(k[4],Ganancias5[Eleccion])"
   ]
  }
 ],
 "metadata": {
  "kernelspec": {
   "display_name": "Python 3",
   "language": "python",
   "name": "python3"
  },
  "language_info": {
   "codemirror_mode": {
    "name": "ipython",
    "version": 3
   },
   "file_extension": ".py",
   "mimetype": "text/x-python",
   "name": "python",
   "nbconvert_exporter": "python",
   "pygments_lexer": "ipython3",
   "version": "3.8.8"
  }
 },
 "nbformat": 4,
 "nbformat_minor": 2
}
